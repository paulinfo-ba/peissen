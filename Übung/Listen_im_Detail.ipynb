{
 "cells": [
  {
   "cell_type": "code",
   "execution_count": 1,
   "id": "47f8cc48-3944-4100-a7bb-ec956fbe3241",
   "metadata": {},
   "outputs": [],
   "source": [
    "L = list(range(1, 13))"
   ]
  },
  {
   "cell_type": "code",
   "execution_count": 2,
   "id": "116689ae-3a90-4807-923e-b036f374182a",
   "metadata": {},
   "outputs": [
    {
     "data": {
      "text/plain": [
       "[1, 2, 3, 4, 5, 6, 7, 8, 9, 10, 11, 12]"
      ]
     },
     "execution_count": 2,
     "metadata": {},
     "output_type": "execute_result"
    }
   ],
   "source": [
    "L"
   ]
  },
  {
   "cell_type": "code",
   "execution_count": 7,
   "id": "cd45f34c-0851-4c7f-9bd4-63ba4d1a9979",
   "metadata": {},
   "outputs": [],
   "source": [
    "L[0]= 100"
   ]
  },
  {
   "cell_type": "code",
   "execution_count": 8,
   "id": "d2f5c70a-2c1d-4f30-b2c8-4cb29dbd4213",
   "metadata": {},
   "outputs": [
    {
     "data": {
      "text/plain": [
       "[100, 100, 3, 4, 5, 6, 7, 8, 9, 10, 11, 12]"
      ]
     },
     "execution_count": 8,
     "metadata": {},
     "output_type": "execute_result"
    }
   ],
   "source": [
    "L"
   ]
  },
  {
   "cell_type": "code",
   "execution_count": 9,
   "id": "25d018ad-49a4-4914-a334-626702e469ca",
   "metadata": {},
   "outputs": [],
   "source": [
    "L[1]= 2"
   ]
  },
  {
   "cell_type": "code",
   "execution_count": 10,
   "id": "6dbcf4f8-3e4c-440e-a8a7-15e86984f26e",
   "metadata": {},
   "outputs": [
    {
     "data": {
      "text/plain": [
       "[100, 2, 3, 4, 5, 6, 7, 8, 9, 10, 11, 12]"
      ]
     },
     "execution_count": 10,
     "metadata": {},
     "output_type": "execute_result"
    }
   ],
   "source": [
    "L"
   ]
  },
  {
   "cell_type": "code",
   "execution_count": 11,
   "id": "0b28045a-971a-4356-add3-aa84dec9d9c7",
   "metadata": {},
   "outputs": [],
   "source": [
    "del L[2:6]"
   ]
  },
  {
   "cell_type": "code",
   "execution_count": 12,
   "id": "fc349307-70c4-4980-a8b2-cbdccf91b2d8",
   "metadata": {},
   "outputs": [
    {
     "data": {
      "text/plain": [
       "[100, 2, 7, 8, 9, 10, 11, 12]"
      ]
     },
     "execution_count": 12,
     "metadata": {},
     "output_type": "execute_result"
    }
   ],
   "source": [
    "L"
   ]
  },
  {
   "cell_type": "code",
   "execution_count": 16,
   "id": "fe4211a0-d778-40b8-b659-430d5c98ed6d",
   "metadata": {},
   "outputs": [],
   "source": [
    "L[3:5] = [100,200,300,400,500,600,]"
   ]
  },
  {
   "cell_type": "code",
   "execution_count": 17,
   "id": "7309e4cf-c063-4c62-85b7-3ff7b757fc99",
   "metadata": {},
   "outputs": [
    {
     "data": {
      "text/plain": [
       "[100,\n",
       " 2,\n",
       " 7,\n",
       " 100,\n",
       " 200,\n",
       " 300,\n",
       " 400,\n",
       " 500,\n",
       " 600,\n",
       " 300,\n",
       " 400,\n",
       " 500,\n",
       " 600,\n",
       " 700,\n",
       " 800,\n",
       " 10,\n",
       " 11,\n",
       " 12]"
      ]
     },
     "execution_count": 17,
     "metadata": {},
     "output_type": "execute_result"
    }
   ],
   "source": [
    "L"
   ]
  },
  {
   "cell_type": "code",
   "execution_count": 19,
   "id": "14bc7877-3106-4e8c-a485-164ec1035ea6",
   "metadata": {},
   "outputs": [],
   "source": [
    "L.append([1])"
   ]
  },
  {
   "cell_type": "code",
   "execution_count": 20,
   "id": "be990393-f4c2-49b0-8140-8ebcb548f026",
   "metadata": {},
   "outputs": [
    {
     "data": {
      "text/plain": [
       "[100,\n",
       " 2,\n",
       " 7,\n",
       " 100,\n",
       " 200,\n",
       " 300,\n",
       " 400,\n",
       " 500,\n",
       " 600,\n",
       " 300,\n",
       " 400,\n",
       " 500,\n",
       " 600,\n",
       " 700,\n",
       " 800,\n",
       " 10,\n",
       " 11,\n",
       " 12,\n",
       " [1]]"
      ]
     },
     "execution_count": 20,
     "metadata": {},
     "output_type": "execute_result"
    }
   ],
   "source": [
    "L"
   ]
  },
  {
   "cell_type": "code",
   "execution_count": 21,
   "id": "4767bd16-4ce4-4cd6-bb21-6ed514a84455",
   "metadata": {},
   "outputs": [],
   "source": [
    "L.append([2])"
   ]
  },
  {
   "cell_type": "code",
   "execution_count": 22,
   "id": "408fbc2d-5aad-4a35-aa50-a3e98e7b8737",
   "metadata": {},
   "outputs": [],
   "source": [
    "L.append([3])"
   ]
  },
  {
   "cell_type": "code",
   "execution_count": 23,
   "id": "4cda0db7-44c8-4297-8e3e-90c85d834406",
   "metadata": {},
   "outputs": [],
   "source": [
    "L.append([4])"
   ]
  },
  {
   "cell_type": "code",
   "execution_count": 24,
   "id": "17b8164a-4cf8-49bd-9389-c8d69cc5b16b",
   "metadata": {},
   "outputs": [],
   "source": [
    "L.append([5])"
   ]
  },
  {
   "cell_type": "code",
   "execution_count": 25,
   "id": "376f2093-a7a3-4a11-987b-7bb56b8fe47f",
   "metadata": {},
   "outputs": [
    {
     "data": {
      "text/plain": [
       "[100,\n",
       " 2,\n",
       " 7,\n",
       " 100,\n",
       " 200,\n",
       " 300,\n",
       " 400,\n",
       " 500,\n",
       " 600,\n",
       " 300,\n",
       " 400,\n",
       " 500,\n",
       " 600,\n",
       " 700,\n",
       " 800,\n",
       " 10,\n",
       " 11,\n",
       " 12,\n",
       " [1],\n",
       " [2],\n",
       " [3],\n",
       " [4],\n",
       " [5]]"
      ]
     },
     "execution_count": 25,
     "metadata": {},
     "output_type": "execute_result"
    }
   ],
   "source": [
    "L"
   ]
  },
  {
   "cell_type": "code",
   "execution_count": 26,
   "id": "9fcd4677-d4ba-4f58-bea8-c0b76ff3eb6a",
   "metadata": {},
   "outputs": [],
   "source": [
    "L.append([1, 2, 3, 4, 5])"
   ]
  },
  {
   "cell_type": "code",
   "execution_count": 27,
   "id": "17a2b444-3bcb-46d7-83b1-eee05c844cee",
   "metadata": {},
   "outputs": [
    {
     "data": {
      "text/plain": [
       "[100,\n",
       " 2,\n",
       " 7,\n",
       " 100,\n",
       " 200,\n",
       " 300,\n",
       " 400,\n",
       " 500,\n",
       " 600,\n",
       " 300,\n",
       " 400,\n",
       " 500,\n",
       " 600,\n",
       " 700,\n",
       " 800,\n",
       " 10,\n",
       " 11,\n",
       " 12,\n",
       " [1],\n",
       " [2],\n",
       " [3],\n",
       " [4],\n",
       " [5],\n",
       " [1, 2, 3, 4, 5]]"
      ]
     },
     "execution_count": 27,
     "metadata": {},
     "output_type": "execute_result"
    }
   ],
   "source": [
    "L"
   ]
  },
  {
   "cell_type": "code",
   "execution_count": 28,
   "id": "6af2aafc-c2fe-473d-b351-637785b8adb2",
   "metadata": {},
   "outputs": [],
   "source": [
    "del L[-1]"
   ]
  },
  {
   "cell_type": "code",
   "execution_count": 29,
   "id": "979a16a4-78a3-48c7-a01a-c3ff8c70f627",
   "metadata": {},
   "outputs": [
    {
     "data": {
      "text/plain": [
       "[100,\n",
       " 2,\n",
       " 7,\n",
       " 100,\n",
       " 200,\n",
       " 300,\n",
       " 400,\n",
       " 500,\n",
       " 600,\n",
       " 300,\n",
       " 400,\n",
       " 500,\n",
       " 600,\n",
       " 700,\n",
       " 800,\n",
       " 10,\n",
       " 11,\n",
       " 12,\n",
       " [1],\n",
       " [2],\n",
       " [3],\n",
       " [4],\n",
       " [5]]"
      ]
     },
     "execution_count": 29,
     "metadata": {},
     "output_type": "execute_result"
    }
   ],
   "source": [
    "L"
   ]
  },
  {
   "cell_type": "code",
   "execution_count": 30,
   "id": "a7e3c9b6-96bd-4459-b8c2-154089a870fa",
   "metadata": {},
   "outputs": [
    {
     "data": {
      "text/plain": [
       "[5]"
      ]
     },
     "execution_count": 30,
     "metadata": {},
     "output_type": "execute_result"
    }
   ],
   "source": [
    "L.pop()"
   ]
  },
  {
   "cell_type": "code",
   "execution_count": 31,
   "id": "c65be975-c3a3-4a2b-88f1-61a0bc4e2030",
   "metadata": {},
   "outputs": [
    {
     "data": {
      "text/plain": [
       "[100,\n",
       " 2,\n",
       " 7,\n",
       " 100,\n",
       " 200,\n",
       " 300,\n",
       " 400,\n",
       " 500,\n",
       " 600,\n",
       " 300,\n",
       " 400,\n",
       " 500,\n",
       " 600,\n",
       " 700,\n",
       " 800,\n",
       " 10,\n",
       " 11,\n",
       " 12,\n",
       " [1],\n",
       " [2],\n",
       " [3],\n",
       " [4]]"
      ]
     },
     "execution_count": 31,
     "metadata": {},
     "output_type": "execute_result"
    }
   ],
   "source": [
    "L"
   ]
  },
  {
   "cell_type": "code",
   "execution_count": 32,
   "id": "33903355-8de5-4885-ba43-ddacefc5883d",
   "metadata": {},
   "outputs": [
    {
     "data": {
      "text/plain": [
       "[4]"
      ]
     },
     "execution_count": 32,
     "metadata": {},
     "output_type": "execute_result"
    }
   ],
   "source": [
    "res = L[-1]\n",
    "del L[-1]\n",
    "res"
   ]
  },
  {
   "cell_type": "code",
   "execution_count": 33,
   "id": "b15eaabe-b5c0-4a5b-8057-aec152c735e2",
   "metadata": {},
   "outputs": [
    {
     "data": {
      "text/plain": [
       "[100,\n",
       " 2,\n",
       " 7,\n",
       " 100,\n",
       " 200,\n",
       " 300,\n",
       " 400,\n",
       " 500,\n",
       " 600,\n",
       " 300,\n",
       " 400,\n",
       " 500,\n",
       " 600,\n",
       " 700,\n",
       " 800,\n",
       " 10,\n",
       " 11,\n",
       " 12,\n",
       " [1],\n",
       " [2],\n",
       " [3]]"
      ]
     },
     "execution_count": 33,
     "metadata": {},
     "output_type": "execute_result"
    }
   ],
   "source": [
    "L"
   ]
  },
  {
   "cell_type": "code",
   "execution_count": 35,
   "id": "4bed05bf-4bab-423e-9e60-22ed37bbd48a",
   "metadata": {},
   "outputs": [],
   "source": [
    "L.remove([3])"
   ]
  },
  {
   "cell_type": "code",
   "execution_count": 36,
   "id": "10daac17-e31b-41bd-9aa5-4f455f8c9d2b",
   "metadata": {},
   "outputs": [
    {
     "data": {
      "text/plain": [
       "[100,\n",
       " 2,\n",
       " 7,\n",
       " 100,\n",
       " 200,\n",
       " 300,\n",
       " 400,\n",
       " 500,\n",
       " 600,\n",
       " 300,\n",
       " 400,\n",
       " 500,\n",
       " 600,\n",
       " 700,\n",
       " 800,\n",
       " 10,\n",
       " 11,\n",
       " 12,\n",
       " [1],\n",
       " [2]]"
      ]
     },
     "execution_count": 36,
     "metadata": {},
     "output_type": "execute_result"
    }
   ],
   "source": [
    "L"
   ]
  },
  {
   "cell_type": "code",
   "execution_count": 39,
   "id": "b6d0f48f-6e7a-4824-a7c0-6ab4397dd5c2",
   "metadata": {},
   "outputs": [
    {
     "data": {
      "text/plain": [
       "<list_reverseiterator at 0x7f4124c7a680>"
      ]
     },
     "execution_count": 39,
     "metadata": {},
     "output_type": "execute_result"
    }
   ],
   "source": [
    "reversed(L)"
   ]
  },
  {
   "cell_type": "code",
   "execution_count": 40,
   "id": "88eba363-9520-4c83-bdf6-dcfb0e69e34e",
   "metadata": {},
   "outputs": [
    {
     "data": {
      "text/plain": [
       "[[2],\n",
       " [1],\n",
       " 12,\n",
       " 11,\n",
       " 10,\n",
       " 800,\n",
       " 700,\n",
       " 600,\n",
       " 500,\n",
       " 400,\n",
       " 300,\n",
       " 600,\n",
       " 500,\n",
       " 400,\n",
       " 300,\n",
       " 200,\n",
       " 100,\n",
       " 7,\n",
       " 2,\n",
       " 100]"
      ]
     },
     "execution_count": 40,
     "metadata": {},
     "output_type": "execute_result"
    }
   ],
   "source": [
    "list(reversed(L))"
   ]
  },
  {
   "cell_type": "code",
   "execution_count": 45,
   "id": "b13851b5-5d25-4171-a010-9903c8b07196",
   "metadata": {},
   "outputs": [
    {
     "name": "stdout",
     "output_type": "stream",
     "text": [
      "1 3\n",
      "   \n",
      "2 4\n"
     ]
    }
   ],
   "source": [
    "for x1, x2 in zip ('1 2', '3 4' ):\n",
    "    print(x1, x2)"
   ]
  },
  {
   "cell_type": "code",
   "execution_count": 51,
   "id": "2f96c6d9-3224-4be6-957d-41b0c69212a8",
   "metadata": {},
   "outputs": [],
   "source": [
    "L4 = list(range(1, 15))"
   ]
  },
  {
   "cell_type": "code",
   "execution_count": 52,
   "id": "bc3d8cb5-3cca-4fdb-a345-bfc4448d3cdf",
   "metadata": {},
   "outputs": [
    {
     "data": {
      "text/plain": [
       "[1, 2, 3, 4, 5, 6, 7, 8, 9, 10, 11, 12, 13, 14]"
      ]
     },
     "execution_count": 52,
     "metadata": {},
     "output_type": "execute_result"
    }
   ],
   "source": [
    "L4"
   ]
  },
  {
   "cell_type": "code",
   "execution_count": 55,
   "id": "f4b034d8-8144-44df-881c-418832b5a74e",
   "metadata": {},
   "outputs": [],
   "source": [
    "L5 = [x * 10 for x in L4]"
   ]
  },
  {
   "cell_type": "code",
   "execution_count": 56,
   "id": "79652ef8-abf1-42a3-916a-260607e3804a",
   "metadata": {},
   "outputs": [
    {
     "data": {
      "text/plain": [
       "[10, 20, 30, 40, 50, 60, 70, 80, 90, 100, 110, 120, 130, 140]"
      ]
     },
     "execution_count": 56,
     "metadata": {},
     "output_type": "execute_result"
    }
   ],
   "source": [
    "L5"
   ]
  },
  {
   "cell_type": "code",
   "execution_count": 57,
   "id": "36b5bb97-a9ab-4699-b80a-6688271c9820",
   "metadata": {},
   "outputs": [
    {
     "data": {
      "text/plain": [
       "[10, 20, 30, 40, 50, 60, 70, 80, 90, 100, 110, 120, 130, 140]"
      ]
     },
     "execution_count": 57,
     "metadata": {},
     "output_type": "execute_result"
    }
   ],
   "source": [
    "L5= res = []\n",
    "for x in L4:\n",
    "    res.append(x * 10)\n",
    "res"
   ]
  },
  {
   "cell_type": "code",
   "execution_count": 58,
   "id": "f90bc93d-430f-416d-8978-c085e2d9ba96",
   "metadata": {},
   "outputs": [
    {
     "data": {
      "text/plain": [
       "[10, 20, 30, 40, 50, 60, 70, 80, 90, 100, 110, 120, 130, 140]"
      ]
     },
     "execution_count": 58,
     "metadata": {},
     "output_type": "execute_result"
    }
   ],
   "source": [
    "L5"
   ]
  },
  {
   "cell_type": "code",
   "execution_count": 59,
   "id": "fbfe7a53-8df7-4157-92aa-fb894e5c551c",
   "metadata": {},
   "outputs": [
    {
     "name": "stdout",
     "output_type": "stream",
     "text": [
      "[999, 13, 14, 15, 16, 17, 18, 19, 20, 21, 22, 23, 24, 25, 26, 27, 28, 29, 30, 31]\n"
     ]
    }
   ],
   "source": [
    "# Übung 8.6.1\n",
    "import random\n",
    "inte_lis = list(range(12, 32))\n",
    "inte_lis[0] = 999\n",
    "print(inte_lis)"
   ]
  },
  {
   "cell_type": "code",
   "execution_count": 60,
   "id": "5e671d48-9438-4069-b64e-555c84daf8fc",
   "metadata": {},
   "outputs": [
    {
     "name": "stdout",
     "output_type": "stream",
     "text": [
      "______ Nr 2: ________________\n",
      "[999, 13, 18, 19, 20, 21, 22, 23, 24, 25, 26, 27, 28, 29, 30, 31]\n",
      "[999, 13, 18, 333, 666, 888, 777, 555, 444, 222, 111, 19, 20, 21, 22, 23, 24, 25, 26, 27, 28, 29, 30, 31]\n"
     ]
    }
   ],
   "source": [
    "# Übung 8.6.2\n",
    "print('______ Nr 2: ________________')\n",
    "del inte_lis[2:6]\n",
    "print(inte_lis)\n",
    "inte_lis.insert(3, 111)\n",
    "inte_lis.insert(3, 222)\n",
    "inte_lis.insert(3, 333)\n",
    "inte_lis.insert(4, 444)\n",
    "inte_lis.insert(4, 555)\n",
    "inte_lis.insert(4, 666)\n",
    "inte_lis.insert(5, 777)\n",
    "inte_lis.insert(5, 888)\n",
    "\n",
    "print(inte_lis)"
   ]
  },
  {
   "cell_type": "code",
   "execution_count": 61,
   "id": "8d729ae2-1450-4070-aa86-bc170f208cd0",
   "metadata": {},
   "outputs": [
    {
     "name": "stdout",
     "output_type": "stream",
     "text": [
      "______ Nr 3: ________________\n",
      "[999, 13, 18, 333, 666, 888, 777, 555, 444, 222, 111, 19, 20, 21, 22, 23, 24, 25, 26, 27, 28, 29, 30, 31, 999, 101010, 111111, 121212, 131313, 1141414, 151515, 161616, 171717, 181818]\n"
     ]
    }
   ],
   "source": [
    "# Übung 8.6.3\n",
    "print('______ Nr 3: ________________')\n",
    "inte_lis.append(999)\n",
    "inte_lis.append(101010)\n",
    "inte_lis.append(111111)\n",
    "inte_lis.append(121212)\n",
    "inte_lis.append(131313)\n",
    "\n",
    "inte_lis.extend([1141414, 151515, 161616, 171717, 181818])\n",
    "print(inte_lis)"
   ]
  },
  {
   "cell_type": "code",
   "execution_count": 62,
   "id": "7cf675ac-2053-4737-9271-4a92e44c4a41",
   "metadata": {},
   "outputs": [
    {
     "name": "stdout",
     "output_type": "stream",
     "text": [
      "______ Nr 4: ________________\n",
      "[999, 13, 18, 333, 666, 888, 777, 555, 444, 222, 111, 19, 20, 21, 22, 23, 24, 25, 26, 27, 28, 29, 30, 31, 999, 101010, 111111, 121212, 131313, 1141414, 151515, 161616]\n"
     ]
    }
   ],
   "source": [
    "print('______ Nr 4: ________________')\n",
    "del inte_lis[-1]\n",
    "del inte_lis[len(inte_lis)-1]\n",
    "# inte_lis[-1] = None\n",
    "print(inte_lis)"
   ]
  },
  {
   "cell_type": "code",
   "execution_count": 63,
   "id": "0730368d-1a03-4f12-89d5-ed009f76fa67",
   "metadata": {},
   "outputs": [
    {
     "name": "stdout",
     "output_type": "stream",
     "text": [
      "______ Nr 5: ________________\n",
      "[161616, 151515, 1141414, 131313, 121212, 111111, 101010, 999, 31, 30, 29, 28, 27, 26, 25, 24, 23, 22, 21, 20, 19, 111, 222, 444, 555, 777, 888, 666, 333, 18, 13, 999]\n"
     ]
    }
   ],
   "source": [
    "inte_lis.reverse()\n",
    "print('______ Nr 5: ________________')\n",
    "print(inte_lis)"
   ]
  },
  {
   "cell_type": "code",
   "execution_count": 68,
   "id": "5d8c3b71-4a32-4ca8-8cf2-af5b2aee8bdd",
   "metadata": {},
   "outputs": [
    {
     "name": "stdout",
     "output_type": "stream",
     "text": [
      "______ Nr 6: ________________\n",
      "[(1141414,), (666,), (222,), (20,), (161616,), (444,), (18,), (121212,), (22,), (24,), (26,), (28,), (888,), (101010,), (30,), (19,), (27,), (21,), (23,), (555,), (111111,), (999,), (151515,), (25,), (13,), (31,), (131313,), (333,), (999,), (777,), (111,), (29,)]\n"
     ]
    }
   ],
   "source": [
    "# Übung 8.6.6\n",
    "zipped = list(zip(inte_lis))\n",
    "print('______ Nr 6: ________________')\n",
    "print(zipped)"
   ]
  },
  {
   "cell_type": "code",
   "execution_count": 65,
   "id": "8054f734-0783-4563-9229-1316f720a170",
   "metadata": {},
   "outputs": [
    {
     "name": "stdout",
     "output_type": "stream",
     "text": [
      "______ Nr 7: ________________\n",
      "[1616160, 1515150, 11414140, 1313130, 1212120, 1111110, 1010100, 9990, 310, 300, 290, 280, 270, 260, 250, 240, 230, 220, 210, 200, 190, 1110, 2220, 4440, 5550, 7770, 8880, 6660, 3330, 180, 130, 9990]\n",
      "[1616160, 1515150, 11414140, 1313130, 1212120, 1111110, 1010100, 9990, 310, 300, 290, 280, 270, 260, 250, 240, 230, 220, 210, 200, 190, 1110, 2220, 4440, 5550, 7770, 8880, 6660, 3330, 180, 130, 9990]\n"
     ]
    }
   ],
   "source": [
    "# Übung 8.6.7\n",
    "tenfold1 = []\n",
    "for item in inte_lis:\n",
    "    tenfold1.append(item * 10)\n",
    "print('______ Nr 7: ________________')\n",
    "print(tenfold1)\n",
    "tenfold2 = [item*10 for item in inte_lis]\n",
    "print(tenfold2)"
   ]
  },
  {
   "cell_type": "code",
   "execution_count": 70,
   "id": "aac87b3d-b2f6-4c3c-a178-0e67f46d8f42",
   "metadata": {},
   "outputs": [
    {
     "name": "stdout",
     "output_type": "stream",
     "text": [
      "______ Nr 8: ________________\n",
      "[111111, 30, 222, 111, 101010, 18, 27, 555, 666, 26, 333, 777, 888, 25, 29, 31, 28, 1141414, 999, 121212, 21, 24, 999, 444, 20, 151515, 19, 23, 161616, 131313, 13, 22]\n",
      "[30, 222, 101010, 18, 666, 26, 888, 28, 1141414, 121212, 24, 444, 20, 161616, 22, 111111, 111, 27, 555, 333, 777, 25, 29, 31, 999, 21, 999, 151515, 19, 23, 131313, 13]\n"
     ]
    }
   ],
   "source": [
    "# Übung 8.6.8\n",
    "shufflist = inte_lis\n",
    "random.shuffle(shufflist)\n",
    "def evenator(elem):\n",
    "    return elem % 2\n",
    "print('______ Nr 8: ________________')\n",
    "print(shufflist)\n",
    "\n",
    "shufflist.sort(key=evenator)\n",
    "print(shufflist)"
   ]
  },
  {
   "cell_type": "code",
   "execution_count": 69,
   "id": "47044c91-4662-4e39-85ab-5b633304c2fd",
   "metadata": {},
   "outputs": [],
   "source": [
    "import random"
   ]
  },
  {
   "cell_type": "code",
   "execution_count": 71,
   "id": "f220b36f-c213-4054-a012-ea8265b67e5b",
   "metadata": {},
   "outputs": [
    {
     "name": "stdout",
     "output_type": "stream",
     "text": [
      "[30, 222, 101010, 18, 666, 26, 888, 28, 1141414, 121212, 24, 444, 20, 161616, 22, 111111, 111, 27, 555, 333, 777, 25, 29, 31, 999, 21, 999, 151515, 19, 23, 131313, 13]\n"
     ]
    }
   ],
   "source": [
    "shufflist.sort(key=evenator)\n",
    "print(shufflist)"
   ]
  },
  {
   "cell_type": "code",
   "execution_count": null,
   "id": "c95d57b9-6300-433e-b582-03ad29a4cc39",
   "metadata": {},
   "outputs": [],
   "source": []
  }
 ],
 "metadata": {
  "kernelspec": {
   "display_name": "Python 3.10",
   "language": "python",
   "name": "python310"
  },
  "language_info": {
   "codemirror_mode": {
    "name": "ipython",
    "version": 3
   },
   "file_extension": ".py",
   "mimetype": "text/x-python",
   "name": "python",
   "nbconvert_exporter": "python",
   "pygments_lexer": "ipython3",
   "version": "3.10.1"
  }
 },
 "nbformat": 4,
 "nbformat_minor": 5
}
