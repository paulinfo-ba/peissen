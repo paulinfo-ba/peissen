{
 "cells": [
  {
   "cell_type": "code",
   "execution_count": 1,
   "id": "9339e2cb-00b0-4dde-8fdc-bddec40d2b48",
   "metadata": {},
   "outputs": [],
   "source": [
    "#Übung 12.3.1"
   ]
  },
  {
   "cell_type": "code",
   "execution_count": 2,
   "id": "e0cf7b1f-6218-4ce7-af51-f44285b45cfe",
   "metadata": {},
   "outputs": [],
   "source": [
    "def Gen3x20():\n",
    "    for i in range(21):\n",
    "        yield i*3"
   ]
  },
  {
   "cell_type": "code",
   "execution_count": 3,
   "id": "2f111dae-a73c-4489-a0c5-8e638eb14d74",
   "metadata": {},
   "outputs": [
    {
     "data": {
      "text/plain": [
       "[0,\n",
       " 3,\n",
       " 6,\n",
       " 9,\n",
       " 12,\n",
       " 15,\n",
       " 18,\n",
       " 21,\n",
       " 24,\n",
       " 27,\n",
       " 30,\n",
       " 33,\n",
       " 36,\n",
       " 39,\n",
       " 42,\n",
       " 45,\n",
       " 48,\n",
       " 51,\n",
       " 54,\n",
       " 57,\n",
       " 60]"
      ]
     },
     "execution_count": 3,
     "metadata": {},
     "output_type": "execute_result"
    }
   ],
   "source": [
    "list(Gen3x20())"
   ]
  },
  {
   "cell_type": "code",
   "execution_count": 4,
   "id": "39a3a59c-da4a-4dbe-8e61-2f942e5baf7b",
   "metadata": {},
   "outputs": [
    {
     "data": {
      "text/plain": [
       "[0,\n",
       " 3,\n",
       " 6,\n",
       " 9,\n",
       " 12,\n",
       " 15,\n",
       " 18,\n",
       " 21,\n",
       " 24,\n",
       " 27,\n",
       " 30,\n",
       " 33,\n",
       " 36,\n",
       " 39,\n",
       " 42,\n",
       " 45,\n",
       " 48,\n",
       " 51,\n",
       " 54,\n",
       " 57,\n",
       " 60]"
      ]
     },
     "execution_count": 4,
     "metadata": {},
     "output_type": "execute_result"
    }
   ],
   "source": [
    "list(i * 3 for i in range(21))"
   ]
  },
  {
   "cell_type": "code",
   "execution_count": 5,
   "id": "7828db84-bb46-4f51-bb92-a5988822b335",
   "metadata": {},
   "outputs": [],
   "source": [
    "def Gen3x20():\n",
    "    for i in range(21):\n",
    "        if(i%2==0):\n",
    "            yield i*3"
   ]
  },
  {
   "cell_type": "code",
   "execution_count": 6,
   "id": "765f48b5-ac31-4b43-8186-77bb3edc6743",
   "metadata": {},
   "outputs": [
    {
     "data": {
      "text/plain": [
       "[0, 6, 12, 18, 24, 30, 36, 42, 48, 54, 60]"
      ]
     },
     "execution_count": 6,
     "metadata": {},
     "output_type": "execute_result"
    }
   ],
   "source": [
    "list(Gen3x20())"
   ]
  },
  {
   "cell_type": "code",
   "execution_count": 7,
   "id": "93264229-2687-461c-bedb-8acaed8ab390",
   "metadata": {},
   "outputs": [
    {
     "data": {
      "text/plain": [
       "[0, 6, 12, 18, 24, 30, 36, 42, 48, 54, 60]"
      ]
     },
     "execution_count": 7,
     "metadata": {},
     "output_type": "execute_result"
    }
   ],
   "source": [
    "list(i * 3 for i in range(21) if i % 2 == 0)"
   ]
  },
  {
   "cell_type": "code",
   "execution_count": 8,
   "id": "86b5f028-a358-437f-a395-145ffe60ce78",
   "metadata": {},
   "outputs": [],
   "source": [
    "def Numbers():\n",
    "    yield 10\n",
    "    for i in range(1,9):\n",
    "        yield i*100"
   ]
  },
  {
   "cell_type": "code",
   "execution_count": 9,
   "id": "c61c90ba-c0c6-4b74-b1ce-ba67d297fb2d",
   "metadata": {},
   "outputs": [
    {
     "data": {
      "text/plain": [
       "[10, 100, 200, 300, 400, 500, 600, 700, 800]"
      ]
     },
     "execution_count": 9,
     "metadata": {},
     "output_type": "execute_result"
    }
   ],
   "source": [
    "list(Numbers())"
   ]
  },
  {
   "cell_type": "code",
   "execution_count": 1,
   "id": "896b68a9-2a02-4b5e-aabe-8102830f9d35",
   "metadata": {},
   "outputs": [],
   "source": [
    "def state( start= 10):\n",
    "    value = start\n",
    "    yield value\n",
    "    value += 90\n",
    "    yield value\n",
    "    value += 100\n",
    "    yield value\n",
    "    value += 100\n",
    "    yield value\n",
    "    value += 100\n",
    "    yield value\n",
    "    value += 9100\n",
    "    yield value"
   ]
  },
  {
   "cell_type": "code",
   "execution_count": 2,
   "id": "689119e4-39e4-4de3-9c1a-24ea88023710",
   "metadata": {},
   "outputs": [],
   "source": [
    "st = state()"
   ]
  },
  {
   "cell_type": "code",
   "execution_count": 3,
   "id": "cb40fd1f-5bfe-4918-a78c-cbcec16e4ecf",
   "metadata": {},
   "outputs": [
    {
     "data": {
      "text/plain": [
       "10"
      ]
     },
     "execution_count": 3,
     "metadata": {},
     "output_type": "execute_result"
    }
   ],
   "source": [
    "next(st)"
   ]
  },
  {
   "cell_type": "code",
   "execution_count": 4,
   "id": "0f32d774-5d0d-4512-908f-a2725d9c9cc7",
   "metadata": {},
   "outputs": [
    {
     "data": {
      "text/plain": [
       "100"
      ]
     },
     "execution_count": 4,
     "metadata": {},
     "output_type": "execute_result"
    }
   ],
   "source": [
    "next(st)"
   ]
  },
  {
   "cell_type": "code",
   "execution_count": 5,
   "id": "c1422197-05a0-4fc0-84dc-b3b7cec27d79",
   "metadata": {},
   "outputs": [
    {
     "data": {
      "text/plain": [
       "200"
      ]
     },
     "execution_count": 5,
     "metadata": {},
     "output_type": "execute_result"
    }
   ],
   "source": [
    "next(st)"
   ]
  },
  {
   "cell_type": "code",
   "execution_count": 6,
   "id": "7c645ed3-6731-4d9b-9ea1-ee983599a30e",
   "metadata": {},
   "outputs": [
    {
     "data": {
      "text/plain": [
       "300"
      ]
     },
     "execution_count": 6,
     "metadata": {},
     "output_type": "execute_result"
    }
   ],
   "source": [
    "next(st)"
   ]
  },
  {
   "cell_type": "code",
   "execution_count": null,
   "id": "facb658a-4834-460d-a369-701118bae1f6",
   "metadata": {},
   "outputs": [],
   "source": []
  }
 ],
 "metadata": {
  "kernelspec": {
   "display_name": "Python 3.10",
   "language": "python",
   "name": "python310"
  },
  "language_info": {
   "codemirror_mode": {
    "name": "ipython",
    "version": 3
   },
   "file_extension": ".py",
   "mimetype": "text/x-python",
   "name": "python",
   "nbconvert_exporter": "python",
   "pygments_lexer": "ipython3",
   "version": "3.10.1"
  }
 },
 "nbformat": 4,
 "nbformat_minor": 5
}
