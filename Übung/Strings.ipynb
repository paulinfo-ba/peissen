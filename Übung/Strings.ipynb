{
 "cells": [
  {
   "cell_type": "code",
   "execution_count": 1,
   "id": "c60843a3-098f-4064-9240-256c5784118d",
   "metadata": {},
   "outputs": [
    {
     "ename": "SyntaxError",
     "evalue": "unterminated triple-quoted string literal (detected at line 6) (2451541747.py, line 1)",
     "output_type": "error",
     "traceback": [
      "\u001b[0;36m  File \u001b[0;32m\"/tmp/ipykernel_299472/2451541747.py\"\u001b[0;36m, line \u001b[0;32m1\u001b[0m\n\u001b[0;31m    template = \"\"\"\u001b[0m\n\u001b[0m               ^\u001b[0m\n\u001b[0;31mSyntaxError\u001b[0m\u001b[0;31m:\u001b[0m unterminated triple-quoted string literal (detected at line 6)\n"
     ]
    }
   ],
   "source": [
    "template = \"\"\"\n",
    "Sehr gehrte{endung} {anrede} {name},\n",
    "Sie schulden mir noch {betrag}.\n",
    "Bitte überweisen Sie den Betrag von {betrag:5.2f} bis zum {datum:%d.%m.%Y}.\n",
    "Viele Grüße\n",
    "Der Eintreibe"
   ]
  },
  {
   "cell_type": "code",
   "execution_count": 2,
   "id": "d40ecaea-1fca-4798-a05c-a7338bbc7ebf",
   "metadata": {},
   "outputs": [
    {
     "ename": "IndentationError",
     "evalue": "expected an indented block after 'for' statement on line 1 (399347744.py, line 2)",
     "output_type": "error",
     "traceback": [
      "\u001b[0;36m  File \u001b[0;32m\"/tmp/ipykernel_299472/399347744.py\"\u001b[0;36m, line \u001b[0;32m2\u001b[0m\n\u001b[0;31m    print('#' * 80)\u001b[0m\n\u001b[0m    ^\u001b[0m\n\u001b[0;31mIndentationError\u001b[0m\u001b[0;31m:\u001b[0m expected an indented block after 'for' statement on line 1\n"
     ]
    }
   ],
   "source": [
    "for entry in data:\n",
    "print('#' * 80)\n",
    "print(template.format(**entry))"
   ]
  },
  {
   "cell_type": "code",
   "execution_count": null,
   "id": "80a5b535-c0c3-4a0e-a13f-89bc809ac859",
   "metadata": {},
   "outputs": [],
   "source": []
  }
 ],
 "metadata": {
  "kernelspec": {
   "display_name": "Python 3.10",
   "language": "python",
   "name": "python310"
  },
  "language_info": {
   "codemirror_mode": {
    "name": "ipython",
    "version": 3
   },
   "file_extension": ".py",
   "mimetype": "text/x-python",
   "name": "python",
   "nbconvert_exporter": "python",
   "pygments_lexer": "ipython3",
   "version": "3.10.1"
  }
 },
 "nbformat": 4,
 "nbformat_minor": 5
}
