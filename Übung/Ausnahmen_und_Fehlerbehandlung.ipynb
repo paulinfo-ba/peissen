{
 "cells": [
  {
   "cell_type": "code",
   "execution_count": 1,
   "id": "8b759700-55f3-4e1f-9b33-8974ad1d069c",
   "metadata": {},
   "outputs": [],
   "source": [
    "# Übung 14.1.1"
   ]
  },
  {
   "cell_type": "code",
   "execution_count": 6,
   "id": "7185ee7a-1dfe-43b1-b04a-d062e335f1f8",
   "metadata": {},
   "outputs": [],
   "source": [
    "class obj:\n",
    "    def __init__(self):\n",
    "        pass\n",
    "\n",
    "\n",
    "o = obj()"
   ]
  },
  {
   "cell_type": "code",
   "execution_count": 7,
   "id": "5fedb634-dc23-48b9-a4a4-98bcf30e44ee",
   "metadata": {},
   "outputs": [],
   "source": [
    "# Übung 14.1.2"
   ]
  },
  {
   "cell_type": "code",
   "execution_count": 12,
   "id": "b08ab1cd-9297-4f60-885d-4a5c64dd62dc",
   "metadata": {},
   "outputs": [
    {
     "ename": "SyntaxError",
     "evalue": "invalid syntax (2795867.py, line 2)",
     "output_type": "error",
     "traceback": [
      "\u001b[0;36m  File \u001b[0;32m\"/tmp/ipykernel_243847/2795867.py\"\u001b[0;36m, line \u001b[0;32m2\u001b[0m\n\u001b[0;31m    except AttributeError as err:\u001b[0m\n\u001b[0m    ^\u001b[0m\n\u001b[0;31mSyntaxError\u001b[0m\u001b[0;31m:\u001b[0m invalid syntax\n"
     ]
    }
   ],
   "source": [
    "  print(o.x)\n",
    "except AttributeError as err:\n",
    "    print(err)"
   ]
  },
  {
   "cell_type": "code",
   "execution_count": 9,
   "id": "418566c0-987c-4e72-9bcc-3ded7749c2f0",
   "metadata": {},
   "outputs": [],
   "source": [
    "#14.1.3"
   ]
  },
  {
   "cell_type": "code",
   "execution_count": 10,
   "id": "411937f9-7133-436f-aa2a-69095e056973",
   "metadata": {},
   "outputs": [
    {
     "ename": "SyntaxError",
     "evalue": "invalid syntax (2063004989.py, line 1)",
     "output_type": "error",
     "traceback": [
      "\u001b[0;36m  File \u001b[0;32m\"/tmp/ipykernel_243847/2063004989.py\"\u001b[0;36m, line \u001b[0;32m1\u001b[0m\n\u001b[0;31m    finally:\u001b[0m\n\u001b[0m    ^\u001b[0m\n\u001b[0;31mSyntaxError\u001b[0m\u001b[0;31m:\u001b[0m invalid syntax\n"
     ]
    }
   ],
   "source": [
    "finally:\n",
    "    print(\"Done!\")"
   ]
  },
  {
   "cell_type": "code",
   "execution_count": 13,
   "id": "eb32e97f-6701-4275-8642-cac0e6ea90f7",
   "metadata": {},
   "outputs": [],
   "source": [
    "# Übung 14.1.4"
   ]
  },
  {
   "cell_type": "code",
   "execution_count": 15,
   "id": "51af7fcb-3eb3-40e1-8aaa-ea3e669cc506",
   "metadata": {},
   "outputs": [
    {
     "name": "stdout",
     "output_type": "stream",
     "text": [
      "list index out of range\n"
     ]
    }
   ],
   "source": [
    "lst = list(range(5))\n",
    "try:\n",
    "    print(lst[7])\n",
    "except IndexError as err:\n",
    "    print(err)"
   ]
  },
  {
   "cell_type": "code",
   "execution_count": 16,
   "id": "c81212ee-48cc-4d72-963a-6fe087a47843",
   "metadata": {},
   "outputs": [],
   "source": [
    "# Übung 14.1.5"
   ]
  },
  {
   "cell_type": "code",
   "execution_count": 17,
   "id": "53a9ef2b-ed7e-4ec6-9b78-cf27df49056f",
   "metadata": {},
   "outputs": [
    {
     "name": "stdout",
     "output_type": "stream",
     "text": [
      "100\n",
      "None\n",
      "999\n",
      "100\n",
      "None\n",
      "999\n"
     ]
    }
   ],
   "source": [
    "def fun(dic, key, default=None):\n",
    "    try:\n",
    "        default = dic[key]\n",
    "    except KeyError:\n",
    "        pass\n",
    "    finally:\n",
    "        return default\n",
    "\n",
    "\n",
    "my_dict = {'a': 100, 'b': 200}\n",
    "print(my_dict.get('a'))\n",
    "print(my_dict.get('x'))\n",
    "print(my_dict.get('x', 999))\n",
    "\n",
    "print(fun(my_dict, 'a'))\n",
    "print(fun(my_dict, 'x'))\n",
    "print(fun(my_dict, 'x', 999))"
   ]
  },
  {
   "cell_type": "code",
   "execution_count": 18,
   "id": "58596439-80e5-4c97-be7d-805c4ddca01a",
   "metadata": {},
   "outputs": [],
   "source": [
    "# Übung 14.1.6"
   ]
  },
  {
   "cell_type": "code",
   "execution_count": 19,
   "id": "c3498ddd-61bf-438f-a4c0-c2e98f76e119",
   "metadata": {},
   "outputs": [
    {
     "name": "stdout",
     "output_type": "stream",
     "text": [
      "-1 is negative\n"
     ]
    }
   ],
   "source": [
    "class PositiveOnly(Exception):\n",
    "\n",
    "    def __init__(self, f, *args):\n",
    "        super().__init__(args)\n",
    "        self.value = f\n",
    "\n",
    "    def __str__(self):\n",
    "        return f\"{self.value} is negative\"\n",
    "\n",
    "\n",
    "num = -1\n",
    "try:\n",
    "    if num < 0:\n",
    "        raise PositiveOnly(num)\n",
    "except PositiveOnly as err:\n",
    "    print(err)"
   ]
  },
  {
   "cell_type": "code",
   "execution_count": null,
   "id": "ceef6242-3ba2-4663-9570-fd149ccd896b",
   "metadata": {},
   "outputs": [],
   "source": []
  }
 ],
 "metadata": {
  "kernelspec": {
   "display_name": "Python 3.10",
   "language": "python",
   "name": "python310"
  },
  "language_info": {
   "codemirror_mode": {
    "name": "ipython",
    "version": 3
   },
   "file_extension": ".py",
   "mimetype": "text/x-python",
   "name": "python",
   "nbconvert_exporter": "python",
   "pygments_lexer": "ipython3",
   "version": "3.10.1"
  }
 },
 "nbformat": 4,
 "nbformat_minor": 5
}
