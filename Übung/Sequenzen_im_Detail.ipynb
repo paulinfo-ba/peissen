{
 "cells": [
  {
   "cell_type": "code",
   "execution_count": 4,
   "id": "68765e99-b634-4349-aef6-6dfbb9172f20",
   "metadata": {},
   "outputs": [],
   "source": [
    "t = (1, 2, 3, 4, 5, 6, 7, 8, 9, 10, 11)"
   ]
  },
  {
   "cell_type": "code",
   "execution_count": 5,
   "id": "c0e8ec40-a56a-4d80-8dd5-da2ec1a931a1",
   "metadata": {},
   "outputs": [
    {
     "data": {
      "text/plain": [
       "2"
      ]
     },
     "execution_count": 5,
     "metadata": {},
     "output_type": "execute_result"
    }
   ],
   "source": [
    "t[1]"
   ]
  },
  {
   "cell_type": "code",
   "execution_count": 6,
   "id": "71c2d69c-3725-49dc-af5d-8ea589eab5da",
   "metadata": {},
   "outputs": [
    {
     "data": {
      "text/plain": [
       "(2, 3, 4, 5, 6, 7, 8, 9)"
      ]
     },
     "execution_count": 6,
     "metadata": {},
     "output_type": "execute_result"
    }
   ],
   "source": [
    "t[1:9]"
   ]
  },
  {
   "cell_type": "code",
   "execution_count": 7,
   "id": "deead4d1-1c7e-4b73-ba23-2c70789f6fdb",
   "metadata": {},
   "outputs": [],
   "source": [
    "t1 = t*3"
   ]
  },
  {
   "cell_type": "code",
   "execution_count": 8,
   "id": "0e1bb3b1-3d08-43f3-996c-c19a036626c6",
   "metadata": {},
   "outputs": [
    {
     "data": {
      "text/plain": [
       "(1,\n",
       " 2,\n",
       " 3,\n",
       " 4,\n",
       " 5,\n",
       " 6,\n",
       " 7,\n",
       " 8,\n",
       " 9,\n",
       " 10,\n",
       " 11,\n",
       " 1,\n",
       " 2,\n",
       " 3,\n",
       " 4,\n",
       " 5,\n",
       " 6,\n",
       " 7,\n",
       " 8,\n",
       " 9,\n",
       " 10,\n",
       " 11,\n",
       " 1,\n",
       " 2,\n",
       " 3,\n",
       " 4,\n",
       " 5,\n",
       " 6,\n",
       " 7,\n",
       " 8,\n",
       " 9,\n",
       " 10,\n",
       " 11)"
      ]
     },
     "execution_count": 8,
     "metadata": {},
     "output_type": "execute_result"
    }
   ],
   "source": [
    "t1"
   ]
  },
  {
   "cell_type": "code",
   "execution_count": 9,
   "id": "ff6b966e-4d3b-48d4-95db-1d98b5c2cb36",
   "metadata": {},
   "outputs": [
    {
     "data": {
      "text/plain": [
       "(1,\n",
       " 2,\n",
       " 3,\n",
       " 4,\n",
       " 5,\n",
       " 6,\n",
       " 7,\n",
       " 8,\n",
       " 9,\n",
       " 10,\n",
       " 11,\n",
       " 1,\n",
       " 2,\n",
       " 3,\n",
       " 4,\n",
       " 5,\n",
       " 6,\n",
       " 7,\n",
       " 8,\n",
       " 9,\n",
       " 10,\n",
       " 11,\n",
       " 1,\n",
       " 2,\n",
       " 3,\n",
       " 4,\n",
       " 5,\n",
       " 6,\n",
       " 7,\n",
       " 8,\n",
       " 9,\n",
       " 10,\n",
       " 11)"
      ]
     },
     "execution_count": 9,
     "metadata": {},
     "output_type": "execute_result"
    }
   ],
   "source": [
    "t+t+t"
   ]
  },
  {
   "cell_type": "code",
   "execution_count": 10,
   "id": "c4493166-a279-48a9-9d0e-a0c119a8677e",
   "metadata": {},
   "outputs": [],
   "source": [
    "t2 = t1[::-1]"
   ]
  },
  {
   "cell_type": "code",
   "execution_count": 11,
   "id": "accdda6d-6c6a-488e-a737-b6ba39e7172d",
   "metadata": {},
   "outputs": [],
   "source": [
    "t3 = t1[::2]"
   ]
  },
  {
   "cell_type": "code",
   "execution_count": 12,
   "id": "f6845fec-eeb3-41c5-bc72-c4875e91fba9",
   "metadata": {},
   "outputs": [
    {
     "data": {
      "text/plain": [
       "(1, 3, 5, 7, 9, 11, 2, 4, 6, 8, 10, 1, 3, 5, 7, 9, 11)"
      ]
     },
     "execution_count": 12,
     "metadata": {},
     "output_type": "execute_result"
    }
   ],
   "source": [
    "t3"
   ]
  },
  {
   "cell_type": "code",
   "execution_count": 22,
   "id": "932f5a48-8377-43d8-8cd7-06bc50cee44f",
   "metadata": {},
   "outputs": [
    {
     "data": {
      "text/plain": [
       "True"
      ]
     },
     "execution_count": 22,
     "metadata": {},
     "output_type": "execute_result"
    }
   ],
   "source": [
    "3 in t1"
   ]
  },
  {
   "cell_type": "markdown",
   "id": "ab1f8d34-e6da-4748-9c7d-c263046e35e3",
   "metadata": {},
   "source": [
    "# 7.2.1 Übung 1\n",
    "Erstellen sie ein Tupel mit ca. 8 bis 15 Ganzzahlen, Gleitkommazahlen und Strings.\n",
    "Greifen auf das zweite Element dieses Tupels zu.\n",
    "Erzeugen Sie ein Teil-Tupel vom zweiten bis zum vorletzten Element.\n",
    "# 7.2.2 Übung 2\n",
    "Erstellen Sie ein Tupel, das dreimal so lang ist wie das aus Übung 1 und die gleichen Elemente dreimal enthält.\n",
    "Verwenden Sie dazu mindestens zwei verschiedene Methoden.\n",
    "# 7.2.3 Übung 3\n",
    "Erzeugen Sie ein neues Tupel mit allen Elemente des Tupels von Übung 2 aber in umgekehrter Reihenfolge mit Hilfe\n",
    "von Slicing.\n",
    "# 7.2.4 Übung 4\n",
    "Erstellen Sie ein neues Tupel, das nur jedes zweite Element des Tupels aus Übung 2 enthält.\n",
    "# 7.2.5 Übung 5\n",
    "Überprüfen Sie, ob ein bestimmtes Element im Tupel enthalten ist.\n"
   ]
  }
 ],
 "metadata": {
  "kernelspec": {
   "display_name": "Python 3.10",
   "language": "python",
   "name": "python310"
  },
  "language_info": {
   "codemirror_mode": {
    "name": "ipython",
    "version": 3
   },
   "file_extension": ".py",
   "mimetype": "text/x-python",
   "name": "python",
   "nbconvert_exporter": "python",
   "pygments_lexer": "ipython3",
   "version": "3.10.1"
  }
 },
 "nbformat": 4,
 "nbformat_minor": 5
}
