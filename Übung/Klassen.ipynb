{
 "cells": [
  {
   "cell_type": "code",
   "execution_count": 7,
   "id": "776ea8c7-8cda-4b1c-b851-5f2ce1518f55",
   "metadata": {},
   "outputs": [],
   "source": [
    "class Person:\n",
    "    \n",
    "    def __init__(self, name, standort):\n",
    "        self.name = name\n",
    "        self.standort = standort \n",
    "        \n",
    "    def gehezu(self, neuerstandort):\n",
    "        self.standort = neuerstandort"
   ]
  },
  {
   "cell_type": "code",
   "execution_count": 9,
   "id": "196fcf38-655b-4b2f-96e3-a6dd05e55402",
   "metadata": {},
   "outputs": [],
   "source": [
    "p1 = Person('Max', 'Dresden')"
   ]
  },
  {
   "cell_type": "code",
   "execution_count": 4,
   "id": "86de36fa-a44e-43bc-ae6a-74961760cd83",
   "metadata": {},
   "outputs": [
    {
     "data": {
      "text/plain": [
       "'Dresden'"
      ]
     },
     "execution_count": 4,
     "metadata": {},
     "output_type": "execute_result"
    }
   ],
   "source": [
    "p1.standort"
   ]
  },
  {
   "cell_type": "code",
   "execution_count": 10,
   "id": "85baa346-08dd-470e-aa5f-1aa9dc9a7d85",
   "metadata": {},
   "outputs": [],
   "source": [
    "p1.gehezu('Taucha')"
   ]
  },
  {
   "cell_type": "code",
   "execution_count": 11,
   "id": "a362e481-67df-4dd2-85f8-9f4f74545352",
   "metadata": {},
   "outputs": [
    {
     "data": {
      "text/plain": [
       "'Taucha'"
      ]
     },
     "execution_count": 11,
     "metadata": {},
     "output_type": "execute_result"
    }
   ],
   "source": [
    "p1.standort"
   ]
  },
  {
   "cell_type": "code",
   "execution_count": 12,
   "id": "df04f7c8-27ee-4b65-925b-7cb271074b52",
   "metadata": {},
   "outputs": [],
   "source": [
    "p2 = Person('Tim', 'Berlin')"
   ]
  },
  {
   "cell_type": "code",
   "execution_count": 13,
   "id": "1084c3d9-28a0-407d-8dae-bc4f5caa23d1",
   "metadata": {},
   "outputs": [
    {
     "data": {
      "text/plain": [
       "'Berlin'"
      ]
     },
     "execution_count": 13,
     "metadata": {},
     "output_type": "execute_result"
    }
   ],
   "source": [
    "p2.standort"
   ]
  },
  {
   "cell_type": "code",
   "execution_count": 14,
   "id": "2dc26ffc-4f90-4121-afee-fc332f65e7b2",
   "metadata": {},
   "outputs": [],
   "source": [
    "p3 = Person('Toni', 'Freiburg')"
   ]
  },
  {
   "cell_type": "code",
   "execution_count": 15,
   "id": "b83dddb0-bcba-478d-a3a3-a687af155fde",
   "metadata": {},
   "outputs": [
    {
     "data": {
      "text/plain": [
       "'Toni'"
      ]
     },
     "execution_count": 15,
     "metadata": {},
     "output_type": "execute_result"
    }
   ],
   "source": [
    "p3.name"
   ]
  },
  {
   "cell_type": "code",
   "execution_count": 16,
   "id": "1dc0e640-df4b-414a-b3b5-eee51348f0c1",
   "metadata": {},
   "outputs": [
    {
     "data": {
      "text/plain": [
       "'Freiburg'"
      ]
     },
     "execution_count": 16,
     "metadata": {},
     "output_type": "execute_result"
    }
   ],
   "source": [
    "p3.standort"
   ]
  },
  {
   "cell_type": "code",
   "execution_count": 36,
   "id": "f3c8499d-3e76-4f22-93ec-51ee0f2d7a96",
   "metadata": {},
   "outputs": [],
   "source": [
    "class EingeschraenktePerson(Person):\n",
    "    \n",
    "    verbotene_standorte = ['Berlin', 'Dresden']\n",
    "    \n",
    "    def gehezu(self, neuerstandort):\n",
    "        if neuerstandort in self.verbotene_standorte:\n",
    "            print('Standort ist verboten')\n",
    "        else:\n",
    "            super().gehezu(neuerstandort)"
   ]
  },
  {
   "cell_type": "code",
   "execution_count": 37,
   "id": "47845885-e6f0-4656-b263-3521be3ef2a0",
   "metadata": {},
   "outputs": [],
   "source": [
    "p3 = EingeschraenktePerson('Michel', 'Leipzig')"
   ]
  },
  {
   "cell_type": "code",
   "execution_count": 40,
   "id": "51e28852-2dca-4f06-9f00-0ae0cb3c8a4c",
   "metadata": {},
   "outputs": [
    {
     "name": "stdout",
     "output_type": "stream",
     "text": [
      "Standort ist verboten\n"
     ]
    }
   ],
   "source": [
    "p3.gehezu('Dresden')"
   ]
  },
  {
   "cell_type": "code",
   "execution_count": 42,
   "id": "ad7bb53a-dd25-4cbc-a824-bd3428055e76",
   "metadata": {},
   "outputs": [],
   "source": [
    "#13.2.1"
   ]
  },
  {
   "cell_type": "code",
   "execution_count": 55,
   "id": "e5d538a0-9fa0-4af5-9d13-e50ef4a5489d",
   "metadata": {},
   "outputs": [],
   "source": [
    "class Person:\n",
    "    def __init__(self, name, location):\n",
    "        self.name = name\n",
    "        self.location = location"
   ]
  },
  {
   "cell_type": "code",
   "execution_count": 44,
   "id": "193cdc1f-0881-4221-8c4c-b4cf507bd6f3",
   "metadata": {},
   "outputs": [],
   "source": [
    "#13.2.2"
   ]
  },
  {
   "cell_type": "code",
   "execution_count": 56,
   "id": "7f4af827-585d-461e-bc9f-7f0feb39b527",
   "metadata": {},
   "outputs": [],
   "source": [
    "def goto(self, location):\n",
    "        print(f\"{self.name} went from {self.location} to {location}\")\n",
    "        self.location = location"
   ]
  },
  {
   "cell_type": "code",
   "execution_count": 46,
   "id": "3c530b1b-88e3-48bd-922d-5b1ec87c6487",
   "metadata": {},
   "outputs": [],
   "source": [
    "#13.4.1"
   ]
  },
  {
   "cell_type": "code",
   "execution_count": 57,
   "id": "8a124b6f-2082-4918-9cbc-ea3aae48ec5a",
   "metadata": {},
   "outputs": [],
   "source": [
    "def __rshift__(self, location):\n",
    "        self.goto(location)"
   ]
  },
  {
   "cell_type": "code",
   "execution_count": 48,
   "id": "b14c3453-fc73-4d4e-a430-42d7ce1c0e43",
   "metadata": {},
   "outputs": [],
   "source": [
    "#13.2.3"
   ]
  },
  {
   "cell_type": "code",
   "execution_count": 58,
   "id": "21a5af14-c070-4e05-b1ce-a7125467a4e0",
   "metadata": {},
   "outputs": [
    {
     "ename": "AttributeError",
     "evalue": "'Person' object has no attribute 'goto'",
     "output_type": "error",
     "traceback": [
      "\u001b[0;31m---------------------------------------------------------------------------\u001b[0m",
      "\u001b[0;31mAttributeError\u001b[0m                            Traceback (most recent call last)",
      "\u001b[0;32m/tmp/ipykernel_194310/2334531787.py\u001b[0m in \u001b[0;36m<module>\u001b[0;34m\u001b[0m\n\u001b[1;32m      1\u001b[0m \u001b[0mperson1\u001b[0m \u001b[0;34m=\u001b[0m \u001b[0mPerson\u001b[0m\u001b[0;34m(\u001b[0m\u001b[0;34m\"Anton\"\u001b[0m\u001b[0;34m,\u001b[0m \u001b[0;34m\"Aurich\"\u001b[0m\u001b[0;34m)\u001b[0m\u001b[0;34m\u001b[0m\u001b[0;34m\u001b[0m\u001b[0m\n\u001b[0;32m----> 2\u001b[0;31m \u001b[0mperson1\u001b[0m\u001b[0;34m.\u001b[0m\u001b[0mgoto\u001b[0m\u001b[0;34m(\u001b[0m\u001b[0;34m\"Amberg-Sulzbach\"\u001b[0m\u001b[0;34m)\u001b[0m\u001b[0;34m\u001b[0m\u001b[0;34m\u001b[0m\u001b[0m\n\u001b[0m\u001b[1;32m      3\u001b[0m \u001b[0mperson2\u001b[0m \u001b[0;34m=\u001b[0m \u001b[0mPerson\u001b[0m\u001b[0;34m(\u001b[0m\u001b[0;34m\"Bernd\"\u001b[0m\u001b[0;34m,\u001b[0m \u001b[0;34m\"Berlin\"\u001b[0m\u001b[0;34m)\u001b[0m\u001b[0;34m\u001b[0m\u001b[0;34m\u001b[0m\u001b[0m\n\u001b[1;32m      4\u001b[0m \u001b[0mperson2\u001b[0m\u001b[0;34m.\u001b[0m\u001b[0mgoto\u001b[0m\u001b[0;34m(\u001b[0m\u001b[0;34m\"Bergheim\"\u001b[0m\u001b[0;34m)\u001b[0m\u001b[0;34m\u001b[0m\u001b[0;34m\u001b[0m\u001b[0m\n",
      "\u001b[0;31mAttributeError\u001b[0m: 'Person' object has no attribute 'goto'"
     ]
    }
   ],
   "source": [
    "person1 = Person(\"Anton\", \"Aurich\")\n",
    "person1.goto(\"Amberg-Sulzbach\")\n",
    "person2 = Person(\"Bernd\", \"Berlin\")\n",
    "person2.goto(\"Bergheim\")"
   ]
  },
  {
   "cell_type": "code",
   "execution_count": 51,
   "id": "f680d522-3212-4d37-a156-d48c10a3d002",
   "metadata": {},
   "outputs": [],
   "source": [
    "#13.3.1"
   ]
  },
  {
   "cell_type": "code",
   "execution_count": 59,
   "id": "9679739a-a364-4150-a69a-d5e73b7e9071",
   "metadata": {},
   "outputs": [
    {
     "name": "stdout",
     "output_type": "stream",
     "text": [
      "Erich is not allowed to go to Berlin\n"
     ]
    }
   ],
   "source": [
    "class LimitedPerson(Person):\n",
    "    # 13.3.2\n",
    "    excluded_locations = [\"Berlin\", \"Munich\", \"Frankfurt\"]\n",
    "\n",
    "    def goto(self, location):\n",
    "        if location is str and location not in self.excluded_locations:\n",
    "            super().goto(location)\n",
    "        else:\n",
    "            print(f\"{self.name} is not allowed to go to {location}\")\n",
    "\n",
    "\n",
    "person3 = LimitedPerson(\"Erich\", \"Erfurt\")\n",
    "person3.goto(\"Berlin\")\n",
    "\n",
    "person4 = LimitedPerson(\"Frank\", \"Frankfurt\")"
   ]
  },
  {
   "cell_type": "code",
   "execution_count": 53,
   "id": "c6072847-c2a7-49c5-936c-dad66b39771c",
   "metadata": {},
   "outputs": [],
   "source": [
    "#13.4.1"
   ]
  },
  {
   "cell_type": "code",
   "execution_count": 60,
   "id": "4bd2e692-3501-48c4-bee5-910441fec5c9",
   "metadata": {},
   "outputs": [
    {
     "ename": "TypeError",
     "evalue": "unsupported operand type(s) for >>: 'Person' and 'str'",
     "output_type": "error",
     "traceback": [
      "\u001b[0;31m---------------------------------------------------------------------------\u001b[0m",
      "\u001b[0;31mTypeError\u001b[0m                                 Traceback (most recent call last)",
      "\u001b[0;32m/tmp/ipykernel_194310/139211445.py\u001b[0m in \u001b[0;36m<module>\u001b[0;34m\u001b[0m\n\u001b[1;32m      1\u001b[0m \u001b[0mperson5\u001b[0m \u001b[0;34m=\u001b[0m \u001b[0mPerson\u001b[0m\u001b[0;34m(\u001b[0m\u001b[0;34m\"August\"\u001b[0m\u001b[0;34m,\u001b[0m \u001b[0;34m\"Augsburg\"\u001b[0m\u001b[0;34m)\u001b[0m\u001b[0;34m\u001b[0m\u001b[0;34m\u001b[0m\u001b[0m\n\u001b[0;32m----> 2\u001b[0;31m \u001b[0mperson5\u001b[0m \u001b[0;34m>>\u001b[0m \u001b[0;34m\"Amsterdam\"\u001b[0m\u001b[0;34m\u001b[0m\u001b[0;34m\u001b[0m\u001b[0m\n\u001b[0m\u001b[1;32m      3\u001b[0m \u001b[0mperson6\u001b[0m \u001b[0;34m=\u001b[0m \u001b[0mLimitedPerson\u001b[0m\u001b[0;34m(\u001b[0m\u001b[0;34m\"Emil\"\u001b[0m\u001b[0;34m,\u001b[0m \u001b[0;34m\"Einbeck\"\u001b[0m\u001b[0;34m)\u001b[0m\u001b[0;34m\u001b[0m\u001b[0;34m\u001b[0m\u001b[0m\n\u001b[1;32m      4\u001b[0m \u001b[0mperson6\u001b[0m \u001b[0;34m>>\u001b[0m \u001b[0;34m\"Munich\"\u001b[0m\u001b[0;34m\u001b[0m\u001b[0;34m\u001b[0m\u001b[0m\n",
      "\u001b[0;31mTypeError\u001b[0m: unsupported operand type(s) for >>: 'Person' and 'str'"
     ]
    }
   ],
   "source": [
    "person5 = Person(\"August\", \"Augsburg\")\n",
    "person5 >> \"Amsterdam\"\n",
    "person6 = LimitedPerson(\"Emil\", \"Einbeck\")\n",
    "person6 >> \"Munich\""
   ]
  },
  {
   "cell_type": "code",
   "execution_count": null,
   "id": "03441633-fe5e-4229-9f19-58b890a0766d",
   "metadata": {},
   "outputs": [],
   "source": []
  }
 ],
 "metadata": {
  "kernelspec": {
   "display_name": "Python 3.10",
   "language": "python",
   "name": "python310"
  },
  "language_info": {
   "codemirror_mode": {
    "name": "ipython",
    "version": 3
   },
   "file_extension": ".py",
   "mimetype": "text/x-python",
   "name": "python",
   "nbconvert_exporter": "python",
   "pygments_lexer": "ipython3",
   "version": "3.10.1"
  }
 },
 "nbformat": 4,
 "nbformat_minor": 5
}
