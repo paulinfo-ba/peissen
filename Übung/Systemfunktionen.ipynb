{
 "cells": [
  {
   "cell_type": "markdown",
   "id": "e8094e39-3872-438b-adfd-1080e9478ed5",
   "metadata": {},
   "source": [
    "22.6.1"
   ]
  },
  {
   "cell_type": "code",
   "execution_count": 2,
   "id": "a8c23bc2-5d2d-46c2-a84f-62360b451e77",
   "metadata": {},
   "outputs": [],
   "source": [
    "import os"
   ]
  },
  {
   "cell_type": "code",
   "execution_count": 3,
   "id": "66e6a6aa-c8b9-4d23-9d39-df9d398f8d61",
   "metadata": {},
   "outputs": [
    {
     "data": {
      "text/plain": [
       "['Aufgabe14_1.ipynb',\n",
       " 'Aufgabe12.3.ipynb',\n",
       " 'Aufgabe16.4',\n",
       " 'Aufgabe15_8.ipynb',\n",
       " 'Aufgabe11.1.ipynb',\n",
       " 'Aufgabe7_2.ipynb',\n",
       " 'Aufgabe13.2.ipynb',\n",
       " 'Aufgabe22.6.ipynb',\n",
       " 'Aufgabe9_2.ipynb',\n",
       " 'Aufgabe4_1_1.py',\n",
       " 'Aufgabe10.1.ipynb',\n",
       " 'Aufgabe 21.5.ipynb',\n",
       " 'Aufgabe5_5_4.py',\n",
       " '.ipynb_checkpoints',\n",
       " 'Aufgabe5_5_1.py',\n",
       " 'Aufgabe4_1_2.py',\n",
       " 'Aufgabe8_6.ipynb',\n",
       " 'Aufgabe5_5_2.py',\n",
       " 'Aufgabe5_5_5.py',\n",
       " 'Aufgabe21.5',\n",
       " 'zero.txt',\n",
       " 'data.txt']"
      ]
     },
     "execution_count": 3,
     "metadata": {},
     "output_type": "execute_result"
    }
   ],
   "source": [
    "os.listdir()"
   ]
  },
  {
   "cell_type": "markdown",
   "id": "3dcd9fe3-9a37-4cdd-a011-2523a17f6852",
   "metadata": {},
   "source": [
    "22.6.2"
   ]
  },
  {
   "cell_type": "code",
   "execution_count": 5,
   "id": "9ea60ffe-ebe8-4b62-98e2-9400074ea5db",
   "metadata": {},
   "outputs": [],
   "source": [
    "import sys"
   ]
  },
  {
   "cell_type": "code",
   "execution_count": 6,
   "id": "f7479808-2faa-45a8-a243-11fd2ff139c3",
   "metadata": {},
   "outputs": [
    {
     "data": {
      "text/plain": [
       "'3.10.1 | packaged by conda-forge | (main, Dec 22 2021, 01:39:05) [GCC 9.4.0]'"
      ]
     },
     "execution_count": 6,
     "metadata": {},
     "output_type": "execute_result"
    }
   ],
   "source": [
    "sys.version"
   ]
  },
  {
   "cell_type": "markdown",
   "id": "e4b7939d-87f8-4a3f-a909-578fe1c16412",
   "metadata": {},
   "source": [
    "22.6.3"
   ]
  },
  {
   "cell_type": "code",
   "execution_count": 7,
   "id": "12e0c8af-163c-4b73-ba2c-1bdb46d25e39",
   "metadata": {},
   "outputs": [
    {
     "name": "stdout",
     "output_type": "stream",
     "text": [
      "/home/user24/data/Aufgaben\n"
     ]
    },
    {
     "ename": "FileNotFoundError",
     "evalue": "[Errno 2] No such file or directory: '/Users/user2'",
     "output_type": "error",
     "traceback": [
      "\u001b[0;31m---------------------------------------------------------------------------\u001b[0m",
      "\u001b[0;31mFileNotFoundError\u001b[0m                         Traceback (most recent call last)",
      "\u001b[0;32m/tmp/ipykernel_306416/1236425950.py\u001b[0m in \u001b[0;36m<module>\u001b[0;34m\u001b[0m\n\u001b[1;32m      1\u001b[0m \u001b[0mprint\u001b[0m \u001b[0;34m(\u001b[0m\u001b[0mos\u001b[0m\u001b[0;34m.\u001b[0m\u001b[0mgetcwd\u001b[0m\u001b[0;34m(\u001b[0m\u001b[0;34m)\u001b[0m\u001b[0;34m)\u001b[0m\u001b[0;34m\u001b[0m\u001b[0;34m\u001b[0m\u001b[0m\n\u001b[0;32m----> 2\u001b[0;31m \u001b[0mos\u001b[0m\u001b[0;34m.\u001b[0m\u001b[0mchdir\u001b[0m\u001b[0;34m(\u001b[0m\u001b[0;34m\"/Users/user2\"\u001b[0m\u001b[0;34m)\u001b[0m\u001b[0;34m\u001b[0m\u001b[0;34m\u001b[0m\u001b[0m\n\u001b[0m\u001b[1;32m      3\u001b[0m \u001b[0mprint\u001b[0m \u001b[0;34m(\u001b[0m\u001b[0mos\u001b[0m\u001b[0;34m.\u001b[0m\u001b[0mgetcwd\u001b[0m\u001b[0;34m(\u001b[0m\u001b[0;34m)\u001b[0m\u001b[0;34m)\u001b[0m\u001b[0;34m\u001b[0m\u001b[0;34m\u001b[0m\u001b[0m\n",
      "\u001b[0;31mFileNotFoundError\u001b[0m: [Errno 2] No such file or directory: '/Users/user2'"
     ]
    }
   ],
   "source": [
    "print (os.getcwd())\n",
    "os.chdir(\"/Users/user2\")\n",
    "print (os.getcwd())"
   ]
  },
  {
   "cell_type": "markdown",
   "id": "6b2582cd-bb77-4e85-a9bf-c344edc90424",
   "metadata": {},
   "source": [
    "22.6.5"
   ]
  },
  {
   "cell_type": "code",
   "execution_count": 8,
   "id": "a38b4c39-e8b5-403c-96f9-264ec9faa36a",
   "metadata": {},
   "outputs": [
    {
     "data": {
      "text/plain": [
       "False"
      ]
     },
     "execution_count": 8,
     "metadata": {},
     "output_type": "execute_result"
    }
   ],
   "source": [
    "os.path.isfile('sub/file1.txt')"
   ]
  },
  {
   "cell_type": "code",
   "execution_count": null,
   "id": "cfddb250-ac1d-4344-896a-e9630d85a251",
   "metadata": {},
   "outputs": [],
   "source": []
  }
 ],
 "metadata": {
  "kernelspec": {
   "display_name": "Python 3.10",
   "language": "python",
   "name": "python310"
  },
  "language_info": {
   "codemirror_mode": {
    "name": "ipython",
    "version": 3
   },
   "file_extension": ".py",
   "mimetype": "text/x-python",
   "name": "python",
   "nbconvert_exporter": "python",
   "pygments_lexer": "ipython3",
   "version": "3.10.1"
  }
 },
 "nbformat": 4,
 "nbformat_minor": 5
}
