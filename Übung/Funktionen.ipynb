{
 "cells": [
  {
   "cell_type": "code",
   "execution_count": 1,
   "id": "eeadf627-ca11-4602-8c8a-d0378ce2dd82",
   "metadata": {},
   "outputs": [],
   "source": [
    "#Übung 11.1.1"
   ]
  },
  {
   "cell_type": "code",
   "execution_count": 2,
   "id": "91ff7238-8ef1-465c-bc70-b976ef382265",
   "metadata": {},
   "outputs": [],
   "source": [
    "def func():\n",
    "    for x in range(0, 10):\n",
    "        print(x, end= \", \")"
   ]
  },
  {
   "cell_type": "code",
   "execution_count": 3,
   "id": "c2776788-6833-4ac8-88f8-377abe6c26df",
   "metadata": {},
   "outputs": [
    {
     "name": "stdout",
     "output_type": "stream",
     "text": [
      "0, 1, 2, 3, 4, 5, 6, 7, 8, 9, "
     ]
    }
   ],
   "source": [
    "func()"
   ]
  },
  {
   "cell_type": "code",
   "execution_count": 4,
   "id": "bf650974-5dbb-47b1-8948-c32bcd49068c",
   "metadata": {},
   "outputs": [],
   "source": [
    "#Übung 11.1.2"
   ]
  },
  {
   "cell_type": "code",
   "execution_count": 7,
   "id": "7a49cf58-48e6-4f73-a25d-06896007445e",
   "metadata": {},
   "outputs": [],
   "source": [
    "def double(a):\n",
    "    return a*2"
   ]
  },
  {
   "cell_type": "code",
   "execution_count": 8,
   "id": "dd20803a-8f63-425e-84ba-664d7c450175",
   "metadata": {},
   "outputs": [
    {
     "data": {
      "text/plain": [
       "24"
      ]
     },
     "execution_count": 8,
     "metadata": {},
     "output_type": "execute_result"
    }
   ],
   "source": [
    "double(12)"
   ]
  },
  {
   "cell_type": "code",
   "execution_count": 9,
   "id": "a817e378-97c1-4834-85b5-5de49e0e98ba",
   "metadata": {},
   "outputs": [],
   "source": [
    "#Übung 11.1.3"
   ]
  },
  {
   "cell_type": "code",
   "execution_count": 10,
   "id": "566e82c4-9112-4a1d-9d5b-9741674aac86",
   "metadata": {},
   "outputs": [],
   "source": [
    "def add_string(a,b):\n",
    "    return a + b"
   ]
  },
  {
   "cell_type": "code",
   "execution_count": 11,
   "id": "5a51c8f0-788f-429e-9208-7d8943464dbd",
   "metadata": {},
   "outputs": [
    {
     "data": {
      "text/plain": [
       "'abcd'"
      ]
     },
     "execution_count": 11,
     "metadata": {},
     "output_type": "execute_result"
    }
   ],
   "source": [
    "add_string(\"ab\",\"cd\")"
   ]
  },
  {
   "cell_type": "code",
   "execution_count": 12,
   "id": "67f082fa-1506-4947-88ab-8987efe49875",
   "metadata": {},
   "outputs": [],
   "source": [
    "#Übung 11.1.4"
   ]
  },
  {
   "cell_type": "code",
   "execution_count": 13,
   "id": "4fe9c6ac-99db-496f-aedc-fc74497b3aa0",
   "metadata": {},
   "outputs": [],
   "source": [
    "def arr(x,y,z):\n",
    "    return (x+y+z)/3"
   ]
  },
  {
   "cell_type": "code",
   "execution_count": 14,
   "id": "47e6f63a-97b1-482c-a398-2d04777a7fcd",
   "metadata": {},
   "outputs": [
    {
     "data": {
      "text/plain": [
       "2.0"
      ]
     },
     "execution_count": 14,
     "metadata": {},
     "output_type": "execute_result"
    }
   ],
   "source": [
    "arr(1,2,3)"
   ]
  },
  {
   "cell_type": "code",
   "execution_count": 15,
   "id": "dd80d52c-3bd0-468a-992b-f95f7d30b3f3",
   "metadata": {},
   "outputs": [],
   "source": [
    "#Übung 11.1.5"
   ]
  },
  {
   "cell_type": "code",
   "execution_count": 16,
   "id": "5cc43862-dc85-4f75-8ccc-aae8547ce79a",
   "metadata": {},
   "outputs": [],
   "source": [
    "def arr2(x,y,z=None):\n",
    "    if(z is None):\n",
    "        return (x+y)/2\n",
    "    else:\n",
    "        return (x+y+z)/3"
   ]
  },
  {
   "cell_type": "code",
   "execution_count": 17,
   "id": "ece18ba1-7328-49a7-ba7d-5febb7cdf0b4",
   "metadata": {},
   "outputs": [
    {
     "data": {
      "text/plain": [
       "2.5"
      ]
     },
     "execution_count": 17,
     "metadata": {},
     "output_type": "execute_result"
    }
   ],
   "source": [
    "arr2(2,3)"
   ]
  },
  {
   "cell_type": "code",
   "execution_count": 18,
   "id": "8e0fbba5-ce79-4a8b-8d00-7db31fc32e36",
   "metadata": {},
   "outputs": [],
   "source": [
    "#Übung 11.1.6"
   ]
  },
  {
   "cell_type": "code",
   "execution_count": 19,
   "id": "ed001247-f697-4522-909c-4bc52a6fdf97",
   "metadata": {},
   "outputs": [],
   "source": [
    "import timeit\n",
    "def time(func, *args):\n",
    "    start = timeit.default_timer()\n",
    "    func(*args)\n",
    "    print(timeit.default_timer()-start)"
   ]
  },
  {
   "cell_type": "code",
   "execution_count": 20,
   "id": "25fd2636-3b5c-4be7-aee5-4899bc7dbc6f",
   "metadata": {},
   "outputs": [
    {
     "name": "stdout",
     "output_type": "stream",
     "text": [
      "5.802838131785393e-06\n"
     ]
    }
   ],
   "source": [
    "time(arr2, 2, 3)"
   ]
  },
  {
   "cell_type": "code",
   "execution_count": 21,
   "id": "7a56669b-78b4-44d1-b5f4-db14464aba2c",
   "metadata": {},
   "outputs": [],
   "source": [
    "def measure_time(func, *args, n=1, **kwargs):\n",
    "    start = timeit.dafault_timer()\n",
    "    for _ in range(n):\n",
    "        res = func(*args, **kwargs)\n",
    "        return (timeit.dafault_timer()-start) / n, res"
   ]
  },
  {
   "cell_type": "code",
   "execution_count": 22,
   "id": "c96c9da5-0e30-4155-9eaa-71d7c937e537",
   "metadata": {},
   "outputs": [
    {
     "ename": "NameError",
     "evalue": "name 'mean' is not defined",
     "output_type": "error",
     "traceback": [
      "\u001b[0;31m---------------------------------------------------------------------------\u001b[0m",
      "\u001b[0;31mNameError\u001b[0m                                 Traceback (most recent call last)",
      "\u001b[0;32m/tmp/ipykernel_151153/1694353588.py\u001b[0m in \u001b[0;36m<module>\u001b[0;34m\u001b[0m\n\u001b[0;32m----> 1\u001b[0;31m \u001b[0mmeasure_time\u001b[0m\u001b[0;34m(\u001b[0m\u001b[0mmean\u001b[0m\u001b[0;34m,\u001b[0m \u001b[0;36m3\u001b[0m\u001b[0;34m,\u001b[0m \u001b[0;36m6\u001b[0m\u001b[0;34m,\u001b[0m \u001b[0;36m8\u001b[0m\u001b[0;34m,\u001b[0m \u001b[0mn\u001b[0m\u001b[0;34m=\u001b[0m\u001b[0;36m100_000\u001b[0m\u001b[0;34m)\u001b[0m\u001b[0;34m\u001b[0m\u001b[0;34m\u001b[0m\u001b[0m\n\u001b[0m",
      "\u001b[0;31mNameError\u001b[0m: name 'mean' is not defined"
     ]
    }
   ],
   "source": [
    "measure_time(mean, 3, 6, 8, n=100_000)"
   ]
  },
  {
   "cell_type": "code",
   "execution_count": null,
   "id": "9f4ca614-0f88-427e-b825-6a6ac6fb0a07",
   "metadata": {},
   "outputs": [],
   "source": []
  }
 ],
 "metadata": {
  "kernelspec": {
   "display_name": "Python 3.10",
   "language": "python",
   "name": "python310"
  },
  "language_info": {
   "codemirror_mode": {
    "name": "ipython",
    "version": 3
   },
   "file_extension": ".py",
   "mimetype": "text/x-python",
   "name": "python",
   "nbconvert_exporter": "python",
   "pygments_lexer": "ipython3",
   "version": "3.10.1"
  }
 },
 "nbformat": 4,
 "nbformat_minor": 5
}
