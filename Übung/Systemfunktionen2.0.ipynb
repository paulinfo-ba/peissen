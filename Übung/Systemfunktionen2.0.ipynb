{
 "cells": [
  {
   "cell_type": "code",
   "execution_count": 16,
   "id": "9ee1ced4-1a5b-40bf-bbe7-1e8a8b5529f1",
   "metadata": {},
   "outputs": [],
   "source": [
    "import sys\n",
    "import os\n",
    "import shutil"
   ]
  },
  {
   "cell_type": "code",
   "execution_count": 5,
   "id": "404fe8f7-be88-4191-b9d4-bb5aabc7b9c8",
   "metadata": {},
   "outputs": [
    {
     "data": {
      "text/plain": [
       "'/home/user05/data/übungen/übung_22'"
      ]
     },
     "execution_count": 5,
     "metadata": {},
     "output_type": "execute_result"
    }
   ],
   "source": [
    "os.getcwd()"
   ]
  },
  {
   "cell_type": "code",
   "execution_count": 6,
   "id": "3c029122-8cfd-4f91-91da-b0f6f12affd2",
   "metadata": {},
   "outputs": [
    {
     "data": {
      "text/plain": [
       "'3.9.9 | packaged by conda-forge | (main, Dec 20 2021, 02:41:03) \\n[GCC 9.4.0]'"
      ]
     },
     "execution_count": 6,
     "metadata": {},
     "output_type": "execute_result"
    }
   ],
   "source": [
    "sys.version"
   ]
  },
  {
   "cell_type": "code",
   "execution_count": 26,
   "id": "624562e8-69d9-4ef6-8fcb-8b1d9eff3020",
   "metadata": {},
   "outputs": [
    {
     "data": {
      "text/plain": [
       "['Übung10',\n",
       " 'ünung13',\n",
       " 'übungen_21',\n",
       " 'übung_16',\n",
       " 'Übung8',\n",
       " 'ünung15',\n",
       " 'übung14',\n",
       " 'Übung5',\n",
       " '.ipynb_checkpoints',\n",
       " 'übung_22',\n",
       " 'übung19',\n",
       " 'Übung11',\n",
       " 'Übung9',\n",
       " 'Übung7',\n",
       " 'Übung4',\n",
       " 'übung12']"
      ]
     },
     "execution_count": 26,
     "metadata": {},
     "output_type": "execute_result"
    }
   ],
   "source": [
    "os.listdir('/home/user05/data/übungen')"
   ]
  },
  {
   "cell_type": "code",
   "execution_count": 29,
   "id": "1f17a59f-d9f5-47ac-911f-af6a3913470f",
   "metadata": {},
   "outputs": [
    {
     "data": {
      "text/plain": [
       "['.ipynb_checkpoints', 'übung21mitfehlern.ipynb']"
      ]
     },
     "execution_count": 29,
     "metadata": {},
     "output_type": "execute_result"
    }
   ],
   "source": [
    "os.listdir('/home/user05/data/übungen/übungen_21')"
   ]
  },
  {
   "cell_type": "code",
   "execution_count": 15,
   "id": "36e3c63f-6171-4890-a163-2c5ef72e0247",
   "metadata": {},
   "outputs": [
    {
     "ename": "AttributeError",
     "evalue": "module 'os' has no attribute 'pa'",
     "output_type": "error",
     "traceback": [
      "\u001b[0;31m---------------------------------------------------------------------------\u001b[0m",
      "\u001b[0;31mAttributeError\u001b[0m                            Traceback (most recent call last)",
      "\u001b[0;32m/tmp/ipykernel_305835/2753831118.py\u001b[0m in \u001b[0;36m<module>\u001b[0;34m\u001b[0m\n\u001b[0;32m----> 1\u001b[0;31m \u001b[0mos\u001b[0m\u001b[0;34m.\u001b[0m\u001b[0mpa\u001b[0m\u001b[0;34m\u001b[0m\u001b[0;34m\u001b[0m\u001b[0m\n\u001b[0m",
      "\u001b[0;31mAttributeError\u001b[0m: module 'os' has no attribute 'pa'"
     ]
    }
   ],
   "source": [
    "os.pa"
   ]
  },
  {
   "cell_type": "code",
   "execution_count": 20,
   "id": "3b2e8854-b226-429f-a797-27ecdbfaa653",
   "metadata": {},
   "outputs": [
    {
     "data": {
      "text/plain": [
       "'test/test.txt'"
      ]
     },
     "execution_count": 20,
     "metadata": {},
     "output_type": "execute_result"
    }
   ],
   "source": [
    "shutil.copyfile('test.txt', 'test/test.txt' )"
   ]
  },
  {
   "cell_type": "code",
   "execution_count": 21,
   "id": "25c62481-de16-41b2-b3e9-a73472401461",
   "metadata": {},
   "outputs": [
    {
     "data": {
      "text/plain": [
       "True"
      ]
     },
     "execution_count": 21,
     "metadata": {},
     "output_type": "execute_result"
    }
   ],
   "source": [
    "os.path.isfile(\"test.txt\")"
   ]
  },
  {
   "cell_type": "code",
   "execution_count": 22,
   "id": "8273a84c-6e46-4bc5-bdc2-43d30a2b4b02",
   "metadata": {},
   "outputs": [
    {
     "data": {
      "text/plain": [
       "False"
      ]
     },
     "execution_count": 22,
     "metadata": {},
     "output_type": "execute_result"
    }
   ],
   "source": [
    "os.path.isfile(\"test\")"
   ]
  },
  {
   "cell_type": "code",
   "execution_count": null,
   "id": "b43df544-0dda-4fc6-81b7-db6c2474f5e9",
   "metadata": {},
   "outputs": [],
   "source": []
  }
 ],
 "metadata": {
  "kernelspec": {
   "display_name": "Python 3 (ipykernel)",
   "language": "python",
   "name": "python3"
  },
  "language_info": {
   "codemirror_mode": {
    "name": "ipython",
    "version": 3
   },
   "file_extension": ".py",
   "mimetype": "text/x-python",
   "name": "python",
   "nbconvert_exporter": "python",
   "pygments_lexer": "ipython3",
   "version": "3.9.9"
  }
 },
 "nbformat": 4,
 "nbformat_minor": 5
}
