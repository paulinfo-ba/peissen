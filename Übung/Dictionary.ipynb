{
 "cells": [
  {
   "cell_type": "code",
   "execution_count": 1,
   "id": "27f57253-241b-409b-a821-89be690b1c47",
   "metadata": {},
   "outputs": [],
   "source": [
    "# Übung 9.2.1\n",
    "d = {'Max' : 26343, 'Tim' : 23754, 'Alex' : 72864}"
   ]
  },
  {
   "cell_type": "code",
   "execution_count": 2,
   "id": "9e9c4560-daf4-46ed-95c9-1f6b5fdc8638",
   "metadata": {},
   "outputs": [
    {
     "data": {
      "text/plain": [
       "{'Max': 26343, 'Tim': 23754, 'Alex': 72864}"
      ]
     },
     "execution_count": 2,
     "metadata": {},
     "output_type": "execute_result"
    }
   ],
   "source": [
    "d"
   ]
  },
  {
   "cell_type": "code",
   "execution_count": 3,
   "id": "ea971e79-aee5-4e08-a322-c56b1be514cd",
   "metadata": {},
   "outputs": [
    {
     "data": {
      "text/plain": [
       "26343"
      ]
     },
     "execution_count": 3,
     "metadata": {},
     "output_type": "execute_result"
    }
   ],
   "source": [
    "d['Max']"
   ]
  },
  {
   "cell_type": "code",
   "execution_count": 4,
   "id": "be05bc22-3a4a-43e1-bd64-8d1876e7e15a",
   "metadata": {},
   "outputs": [
    {
     "data": {
      "text/plain": [
       "True"
      ]
     },
     "execution_count": 4,
     "metadata": {},
     "output_type": "execute_result"
    }
   ],
   "source": [
    "'Max' in d"
   ]
  },
  {
   "cell_type": "code",
   "execution_count": 5,
   "id": "53d1a814-1460-4379-9100-a3b1305a2168",
   "metadata": {},
   "outputs": [
    {
     "data": {
      "text/plain": [
       "dict_keys(['Max', 'Tim', 'Alex'])"
      ]
     },
     "execution_count": 5,
     "metadata": {},
     "output_type": "execute_result"
    }
   ],
   "source": [
    "d.keys()"
   ]
  },
  {
   "cell_type": "code",
   "execution_count": 6,
   "id": "15bef4e7-52be-4bcc-badb-1a5c780ebaa2",
   "metadata": {},
   "outputs": [
    {
     "data": {
      "text/plain": [
       "dict_values([26343, 23754, 72864])"
      ]
     },
     "execution_count": 6,
     "metadata": {},
     "output_type": "execute_result"
    }
   ],
   "source": [
    "d.values()"
   ]
  },
  {
   "cell_type": "code",
   "execution_count": 17,
   "id": "cddbf6fb-9b11-4caa-9e11-01f33ab19be8",
   "metadata": {},
   "outputs": [
    {
     "data": {
      "text/plain": [
       "True"
      ]
     },
     "execution_count": 17,
     "metadata": {},
     "output_type": "execute_result"
    }
   ],
   "source": [
    "# Übung 9.2.2\n",
    "'Toni' not in d"
   ]
  },
  {
   "cell_type": "code",
   "execution_count": 21,
   "id": "a5308cd4-f46f-4c7c-9590-bf83b42ae67c",
   "metadata": {},
   "outputs": [],
   "source": [
    "d['Toni'] = 75934"
   ]
  },
  {
   "cell_type": "code",
   "execution_count": 22,
   "id": "1f784cd3-8939-4e75-a5b1-4669dd32dbd9",
   "metadata": {},
   "outputs": [
    {
     "data": {
      "text/plain": [
       "{'Max': 26343, 'Tim': 23754, 'Alex': 72864, 'Toni': 75934}"
      ]
     },
     "execution_count": 22,
     "metadata": {},
     "output_type": "execute_result"
    }
   ],
   "source": [
    "d"
   ]
  },
  {
   "cell_type": "code",
   "execution_count": 24,
   "id": "da034c4f-d2d3-40f3-b511-4ce672f7789f",
   "metadata": {},
   "outputs": [
    {
     "name": "stdout",
     "output_type": "stream",
     "text": [
      "Erika Mustermann is part of dictionary\n",
      "['+49 157 55 55 555', '+49 176 11 11 111', '+ 49 177 33 33 333', '+49 178 22 22 222']\n",
      "['Max Mustermann', 'Karl Lauterbach', 'Olaf Scholz', 'Erika Mustermann']\n"
     ]
    }
   ],
   "source": [
    "##9.2.1\n",
    "name = \"Erika Mustermann\"\n",
    "dic = {\n",
    "    \"Max Mustermann\": \"+49 157 55 55 555\",\n",
    "    \"Karl Lauterbach\": \"+49 176 11 11 111\",\n",
    "    \"Olaf Scholz\": \"+ 49 177 33 33 333\",\n",
    "    name: \"+49 178 22 22 222\"\n",
    "}\n",
    "\n",
    "if name in dic:\n",
    "    print(name, \"is part of dictionary\")\n",
    "\n",
    "print(list(dic.values()))\n",
    "\n",
    "print(list(dic.keys()))"
   ]
  },
  {
   "cell_type": "code",
   "execution_count": 26,
   "id": "dd94903f-5fd8-4427-863f-520e45dc7a24",
   "metadata": {},
   "outputs": [
    {
     "name": "stdout",
     "output_type": "stream",
     "text": [
      "None\n",
      "0\n",
      "0\n",
      "{'Max Mustermann': '+49 157 55 55 555', 'Karl Lauterbach': '+49 176 11 11 111', 'Olaf Scholz': '+ 49 177 33 33 333', 'Erika Mustermann': '+49 178 22 22 222', 'Klabautermann': 0}\n"
     ]
    }
   ],
   "source": [
    "#Übung9.2.2\n",
    "\n",
    "name = \"Klabautermann\"\n",
    "print(dic.get(name))\n",
    "print(dic.get(name, 0))\n",
    "\n",
    "print(dic.setdefault(name, 0))\n",
    "print(dic)"
   ]
  },
  {
   "cell_type": "code",
   "execution_count": 27,
   "id": "91a4c3e9-117e-473b-9447-200615b45f22",
   "metadata": {},
   "outputs": [
    {
     "name": "stdout",
     "output_type": "stream",
     "text": [
      "{'Max Mustermann': '+49 157 55 55 555', 'Karl Lauterbach': '+49 176 11 11 111', 'Olaf Scholz': '+ 49 177 33 33 333', 'Erika Mustermann': '+49 178 22 22 222', 'Klabautermann': 0, 'Christian Lindner': '+49 155 99 99 999', 'Robert Habek': '+49 176 12 34 567'}\n",
      "{'Max Mustermann': '+49 157 55 55 555', 'Karl Lauterbach': '+49 176 11 11 111', 'Olaf Scholz': '+ 49 177 33 33 333', 'Erika Mustermann': '+49 178 22 22 222', 'Klabautermann': 0, 'Christian Lindner': '+49 155 99 99 999', 'Robert Habek': '+49 176 12 34 567'}\n"
     ]
    }
   ],
   "source": [
    "#Übung9.2.3\n",
    "new_entries = {\n",
    "    \"Christian Lindner\": \"+49 155 99 99 999\",\n",
    "    \"Robert Habek\": \"+49 176 12 34 567\"\n",
    "}\n",
    "\n",
    "new_dic = dic.copy()\n",
    "another_dic = dic.copy()\n",
    "\n",
    "for item in new_entries.items():\n",
    "    new_dic[item[0]] = item[1]\n",
    "\n",
    "print(new_dic)\n",
    "\n",
    "another_dic.update(new_entries)\n",
    "\n",
    "print(another_dic)"
   ]
  },
  {
   "cell_type": "code",
   "execution_count": 28,
   "id": "701ac760-41ac-4875-adeb-f23fcfd741f1",
   "metadata": {},
   "outputs": [
    {
     "name": "stdout",
     "output_type": "stream",
     "text": [
      "0\n",
      "('Erika Mustermann', '+49 178 22 22 222')\n"
     ]
    }
   ],
   "source": [
    "#Übung9.2.4\n",
    "print(dic.pop(name))\n",
    "print(dic.popitem())"
   ]
  },
  {
   "cell_type": "code",
   "execution_count": 36,
   "id": "18554e40-4130-452b-b004-bac220d5ad53",
   "metadata": {},
   "outputs": [
    {
     "data": {
      "text/plain": [
       "2190"
      ]
     },
     "execution_count": 36,
     "metadata": {},
     "output_type": "execute_result"
    }
   ],
   "source": [
    "#Übung9.2.5\n",
    "import random\n",
    "l = list(range(10000))\n",
    "random.shuffle(l)\n",
    "l[4999]"
   ]
  },
  {
   "cell_type": "code",
   "execution_count": 37,
   "id": "5958b524-b515-4330-8981-416ec642f30d",
   "metadata": {},
   "outputs": [],
   "source": [
    "t=dict()"
   ]
  },
  {
   "cell_type": "code",
   "execution_count": 38,
   "id": "af9914c3-5463-406e-bf72-cc4314844466",
   "metadata": {},
   "outputs": [],
   "source": [
    "for x in l:\n",
    "    t[x] = 'a'"
   ]
  },
  {
   "cell_type": "code",
   "execution_count": 39,
   "id": "39a0cf25-df83-4b36-8d51-53693091c75c",
   "metadata": {},
   "outputs": [
    {
     "name": "stdout",
     "output_type": "stream",
     "text": [
      "118 µs ± 6.04 µs per loop (mean ± std. dev. of 7 runs, 10000 loops each)\n"
     ]
    }
   ],
   "source": [
    "%timeit l.index(8277)"
   ]
  },
  {
   "cell_type": "code",
   "execution_count": 40,
   "id": "e8847a6f-0869-40a1-902d-3eed2fb4f825",
   "metadata": {},
   "outputs": [
    {
     "name": "stdout",
     "output_type": "stream",
     "text": [
      "83.5 ns ± 2.73 ns per loop (mean ± std. dev. of 7 runs, 10000000 loops each)\n"
     ]
    }
   ],
   "source": [
    "%timeit t[8277]"
   ]
  },
  {
   "cell_type": "code",
   "execution_count": null,
   "id": "cf01f128-44ab-4d37-8cab-84bfc010c04b",
   "metadata": {},
   "outputs": [],
   "source": []
  }
 ],
 "metadata": {
  "kernelspec": {
   "display_name": "Python 3.10",
   "language": "python",
   "name": "python310"
  },
  "language_info": {
   "codemirror_mode": {
    "name": "ipython",
    "version": 3
   },
   "file_extension": ".py",
   "mimetype": "text/x-python",
   "name": "python",
   "nbconvert_exporter": "python",
   "pygments_lexer": "ipython3",
   "version": "3.10.1"
  }
 },
 "nbformat": 4,
 "nbformat_minor": 5
}
