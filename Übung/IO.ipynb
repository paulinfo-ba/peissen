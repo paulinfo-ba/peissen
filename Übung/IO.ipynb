{
 "cells": [
  {
   "cell_type": "code",
   "execution_count": 1,
   "id": "a932165e-9a56-4d2f-b05f-06b0925e35f5",
   "metadata": {},
   "outputs": [],
   "source": [
    "# Übung 15.8.1/15.8.2"
   ]
  },
  {
   "cell_type": "code",
   "execution_count": 2,
   "id": "cedd2ab5-ffb3-4ce6-8b14-a48530bac9e7",
   "metadata": {},
   "outputs": [
    {
     "name": "stdin",
     "output_type": "stream",
     "text": [
      "Namen eingeben:  Niklas\n"
     ]
    },
    {
     "name": "stdout",
     "output_type": "stream",
     "text": [
      "Niklas\n"
     ]
    }
   ],
   "source": [
    "name = input('Namen eingeben: ')\n",
    "print(name)"
   ]
  },
  {
   "cell_type": "code",
   "execution_count": 7,
   "id": "cfe65c92-26dd-44a8-ba7d-f316402342fb",
   "metadata": {},
   "outputs": [
    {
     "name": "stdin",
     "output_type": "stream",
     "text": [
      "Namen eingeben:  Niklas\n"
     ]
    },
    {
     "name": "stdout",
     "output_type": "stream",
     "text": [
      "Niklas\n"
     ]
    },
    {
     "name": "stdin",
     "output_type": "stream",
     "text": [
      "Namen eingeben:  end\n"
     ]
    },
    {
     "name": "stdout",
     "output_type": "stream",
     "text": [
      "end\n"
     ]
    }
   ],
   "source": [
    "name = None\n",
    "while name != 'end':\n",
    "    name = input('Namen eingeben: ')\n",
    "    print(name)"
   ]
  },
  {
   "cell_type": "code",
   "execution_count": 21,
   "id": "4bfb534a-257d-414a-8aa6-b6de66753e41",
   "metadata": {},
   "outputs": [],
   "source": [
    "# Übung 15.8.3"
   ]
  },
  {
   "cell_type": "code",
   "execution_count": 11,
   "id": "ee7f5bb6-3c30-4d50-8185-da8ed8ab49cc",
   "metadata": {},
   "outputs": [],
   "source": [
    "fobj = open('zero.txt', 'w', encoding='UTF-8')"
   ]
  },
  {
   "cell_type": "code",
   "execution_count": 12,
   "id": "4f20a543-d0b5-4a74-8a69-93e73a43ba91",
   "metadata": {},
   "outputs": [
    {
     "data": {
      "text/plain": [
       "23"
      ]
     },
     "execution_count": 12,
     "metadata": {},
     "output_type": "execute_result"
    }
   ],
   "source": [
    "fobj.write('''1\n",
    "2\n",
    "3\n",
    "4\n",
    "5\n",
    "6\n",
    "7\n",
    "8\n",
    "8\n",
    "9\n",
    "10\n",
    "''')"
   ]
  },
  {
   "cell_type": "code",
   "execution_count": 15,
   "id": "1df8a855-e2dc-4a03-bc06-b9aab3ddcf57",
   "metadata": {},
   "outputs": [],
   "source": [
    "fobj.close()"
   ]
  },
  {
   "cell_type": "code",
   "execution_count": 20,
   "id": "13851753-b133-4b99-a13a-89cea5e67bf2",
   "metadata": {},
   "outputs": [],
   "source": [
    "# Übung 15.8.4"
   ]
  },
  {
   "cell_type": "code",
   "execution_count": 16,
   "id": "e76187e4-7be7-45d6-a078-449ad4b9bda8",
   "metadata": {},
   "outputs": [],
   "source": [
    "with open('zero.txt') as fobj:\n",
    "    data = fobj.read()"
   ]
  },
  {
   "cell_type": "code",
   "execution_count": 17,
   "id": "60c497f5-5988-4b33-bfac-73b153b85125",
   "metadata": {},
   "outputs": [
    {
     "data": {
      "text/plain": [
       "'1\\n2\\n3\\n4\\n5\\n6\\n7\\n8\\n8\\n9\\n10\\n'"
      ]
     },
     "execution_count": 17,
     "metadata": {},
     "output_type": "execute_result"
    }
   ],
   "source": [
    "data"
   ]
  },
  {
   "cell_type": "code",
   "execution_count": 18,
   "id": "4942a566-d601-454a-a138-2a776895bd7a",
   "metadata": {},
   "outputs": [
    {
     "name": "stdout",
     "output_type": "stream",
     "text": [
      "1\n",
      "2\n",
      "3\n",
      "4\n",
      "5\n",
      "6\n",
      "7\n",
      "8\n",
      "8\n",
      "9\n",
      "10\n",
      "\n"
     ]
    }
   ],
   "source": [
    "print(data)"
   ]
  },
  {
   "cell_type": "code",
   "execution_count": 19,
   "id": "365effce-d63f-4020-9def-722b931a72fc",
   "metadata": {},
   "outputs": [],
   "source": [
    "# Übung 15.8.6"
   ]
  },
  {
   "cell_type": "code",
   "execution_count": 22,
   "id": "e4420fa3-dc92-42f7-afb8-ff56ac38ad31",
   "metadata": {},
   "outputs": [],
   "source": [
    "import pickle"
   ]
  },
  {
   "cell_type": "code",
   "execution_count": 23,
   "id": "c0fc654b-9637-46cf-acc5-d48f89b5923b",
   "metadata": {},
   "outputs": [],
   "source": [
    "L = list(range(1, 4))"
   ]
  },
  {
   "cell_type": "code",
   "execution_count": 24,
   "id": "e20a492b-7492-4a91-96ce-430b3e0a8b0d",
   "metadata": {},
   "outputs": [
    {
     "data": {
      "text/plain": [
       "[1, 2, 3]"
      ]
     },
     "execution_count": 24,
     "metadata": {},
     "output_type": "execute_result"
    }
   ],
   "source": [
    "L"
   ]
  },
  {
   "cell_type": "code",
   "execution_count": 25,
   "id": "611893e5-cacb-4295-ae45-79d61df5104c",
   "metadata": {},
   "outputs": [],
   "source": [
    "p = pickle.dumps(L)"
   ]
  },
  {
   "cell_type": "code",
   "execution_count": 26,
   "id": "ece7b43e-46c8-4ae9-aec6-e462d744e7fe",
   "metadata": {},
   "outputs": [
    {
     "data": {
      "text/plain": [
       "[1, 2, 3]"
      ]
     },
     "execution_count": 26,
     "metadata": {},
     "output_type": "execute_result"
    }
   ],
   "source": [
    "pickle.loads(p)"
   ]
  },
  {
   "cell_type": "code",
   "execution_count": 27,
   "id": "e8a4ac92-b0fe-416f-955d-9ccd9ef642db",
   "metadata": {},
   "outputs": [],
   "source": [
    "# Übung 15.8.5"
   ]
  },
  {
   "cell_type": "code",
   "execution_count": null,
   "id": "b3ddab36-a582-4158-ab6e-07898082ef00",
   "metadata": {},
   "outputs": [],
   "source": []
  }
 ],
 "metadata": {
  "kernelspec": {
   "display_name": "Python 3.10",
   "language": "python",
   "name": "python310"
  },
  "language_info": {
   "codemirror_mode": {
    "name": "ipython",
    "version": 3
   },
   "file_extension": ".py",
   "mimetype": "text/x-python",
   "name": "python",
   "nbconvert_exporter": "python",
   "pygments_lexer": "ipython3",
   "version": "3.10.1"
  }
 },
 "nbformat": 4,
 "nbformat_minor": 5
}
