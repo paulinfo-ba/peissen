{
 "cells": [
  {
   "cell_type": "code",
   "execution_count": 1,
   "id": "69e13856-b593-4c9e-9843-9688ed8c8058",
   "metadata": {},
   "outputs": [],
   "source": [
    "s1 = set([\"Max\", \"Moritz\", \"Thomas\", \"Karl\"])\n",
    "s2 = set([\"Max\", \"Moritz\", \"Rudi\", \"Hans\"])"
   ]
  },
  {
   "cell_type": "code",
   "execution_count": 2,
   "id": "18f9be2b-07be-4eaa-a44b-3f720f6d55c9",
   "metadata": {},
   "outputs": [
    {
     "data": {
      "text/plain": [
       "True"
      ]
     },
     "execution_count": 2,
     "metadata": {},
     "output_type": "execute_result"
    }
   ],
   "source": [
    "\"Max\" in s1"
   ]
  },
  {
   "cell_type": "code",
   "execution_count": 3,
   "id": "74d21d1b-0903-455a-8037-a085b5d95a24",
   "metadata": {},
   "outputs": [
    {
     "data": {
      "text/plain": [
       "{'Max', 'Moritz'}"
      ]
     },
     "execution_count": 3,
     "metadata": {},
     "output_type": "execute_result"
    }
   ],
   "source": [
    "s1.intersection(s2)"
   ]
  },
  {
   "cell_type": "code",
   "execution_count": 4,
   "id": "b9e39bb7-a63e-4b3b-8401-62b1042f0289",
   "metadata": {},
   "outputs": [
    {
     "data": {
      "text/plain": [
       "{'Karl', 'Thomas'}"
      ]
     },
     "execution_count": 4,
     "metadata": {},
     "output_type": "execute_result"
    }
   ],
   "source": [
    "s1 - s2"
   ]
  },
  {
   "cell_type": "code",
   "execution_count": 5,
   "id": "913dfd7a-db41-4e91-9958-db20ea68e32c",
   "metadata": {},
   "outputs": [
    {
     "data": {
      "text/plain": [
       "{'Hans', 'Karl', 'Max', 'Moritz', 'Rudi', 'Thomas'}"
      ]
     },
     "execution_count": 5,
     "metadata": {},
     "output_type": "execute_result"
    }
   ],
   "source": [
    "s1.union(s2)"
   ]
  },
  {
   "cell_type": "code",
   "execution_count": 6,
   "id": "63b483c5-4c67-4379-92ff-40c351b82e1d",
   "metadata": {},
   "outputs": [],
   "source": [
    "s3 = set([\"Max\", \"Moritz\"])"
   ]
  },
  {
   "cell_type": "code",
   "execution_count": 7,
   "id": "baed401f-011b-408f-8775-23382f649f33",
   "metadata": {},
   "outputs": [
    {
     "data": {
      "text/plain": [
       "True"
      ]
     },
     "execution_count": 7,
     "metadata": {},
     "output_type": "execute_result"
    }
   ],
   "source": [
    "s3.issubset(s1)"
   ]
  },
  {
   "cell_type": "code",
   "execution_count": 8,
   "id": "4be66fcc-f701-4287-ba92-d4267a329fbb",
   "metadata": {},
   "outputs": [],
   "source": [
    "s4 = set([frozenset(s1), frozenset(s2)])"
   ]
  },
  {
   "cell_type": "code",
   "execution_count": 9,
   "id": "bd7b782a-cee8-4b8d-b3da-806225d0921d",
   "metadata": {},
   "outputs": [],
   "source": [
    "s5 = set([frozenset(s2), frozenset(s3)])"
   ]
  },
  {
   "cell_type": "code",
   "execution_count": 10,
   "id": "abae37e5-3f33-48d9-b020-d44c41de21bf",
   "metadata": {},
   "outputs": [
    {
     "data": {
      "text/plain": [
       "{frozenset({'Hans', 'Max', 'Moritz', 'Rudi'})}"
      ]
     },
     "execution_count": 10,
     "metadata": {},
     "output_type": "execute_result"
    }
   ],
   "source": [
    "s4.intersection(s5)"
   ]
  },
  {
   "cell_type": "code",
   "execution_count": 11,
   "id": "8b1c5faa-8326-4cbb-a000-37a81e8797b2",
   "metadata": {},
   "outputs": [
    {
     "data": {
      "text/plain": [
       "8802"
      ]
     },
     "execution_count": 11,
     "metadata": {},
     "output_type": "execute_result"
    }
   ],
   "source": [
    "import random\n",
    "l = list(range(10000))\n",
    "random.shuffle(l)\n",
    "l[4999]"
   ]
  },
  {
   "cell_type": "code",
   "execution_count": 12,
   "id": "7cb4932f-509f-44a7-8bb6-6759f87f665e",
   "metadata": {},
   "outputs": [],
   "source": [
    "d = dict()"
   ]
  },
  {
   "cell_type": "code",
   "execution_count": 13,
   "id": "ee5cfddf-9f8d-4721-b07f-7c1308aca8d8",
   "metadata": {},
   "outputs": [],
   "source": [
    "for entry in l:\n",
    "    d[entry] = \"a\""
   ]
  },
  {
   "cell_type": "code",
   "execution_count": 14,
   "id": "a2818c03-ca54-4fc4-8ddb-cc302451d1b3",
   "metadata": {},
   "outputs": [],
   "source": [
    "s = set()"
   ]
  },
  {
   "cell_type": "code",
   "execution_count": 15,
   "id": "de5611aa-212b-43fa-8631-7518ceedf470",
   "metadata": {},
   "outputs": [],
   "source": [
    "for entry in l:\n",
    "    s.add(entry)"
   ]
  },
  {
   "cell_type": "code",
   "execution_count": 16,
   "id": "4b72e030-f33f-49d2-bf97-f06ad747268e",
   "metadata": {},
   "outputs": [
    {
     "name": "stdout",
     "output_type": "stream",
     "text": [
      "60.8 µs ± 2.96 µs per loop (mean ± std. dev. of 7 runs, 10000 loops each)\n"
     ]
    }
   ],
   "source": [
    "%timeit 5359 in l"
   ]
  },
  {
   "cell_type": "code",
   "execution_count": 17,
   "id": "5fae7c47-7903-40fc-acaa-42b8b10a5cf3",
   "metadata": {},
   "outputs": [
    {
     "name": "stdout",
     "output_type": "stream",
     "text": [
      "84.5 ns ± 3.27 ns per loop (mean ± std. dev. of 7 runs, 10000000 loops each)\n"
     ]
    }
   ],
   "source": [
    "%timeit 5359 in d"
   ]
  },
  {
   "cell_type": "code",
   "execution_count": 18,
   "id": "1e705df9-cff5-4a6e-86a7-554f079187e7",
   "metadata": {},
   "outputs": [
    {
     "name": "stdout",
     "output_type": "stream",
     "text": [
      "74.2 ns ± 4.12 ns per loop (mean ± std. dev. of 7 runs, 10000000 loops each)\n"
     ]
    }
   ],
   "source": [
    "%timeit 5359 in s"
   ]
  },
  {
   "cell_type": "code",
   "execution_count": null,
   "id": "a0247977-e24f-40e2-b1c4-08318b39c449",
   "metadata": {},
   "outputs": [],
   "source": []
  }
 ],
 "metadata": {
  "kernelspec": {
   "display_name": "Python 3.10",
   "language": "python",
   "name": "python310"
  },
  "language_info": {
   "codemirror_mode": {
    "name": "ipython",
    "version": 3
   },
   "file_extension": ".py",
   "mimetype": "text/x-python",
   "name": "python",
   "nbconvert_exporter": "python",
   "pygments_lexer": "ipython3",
   "version": "3.10.1"
  }
 },
 "nbformat": 4,
 "nbformat_minor": 5
}
