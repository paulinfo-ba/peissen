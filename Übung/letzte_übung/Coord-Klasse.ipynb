{
 "cells": [
  {
   "cell_type": "code",
   "execution_count": 89,
   "id": "f86a2abd-3434-400f-855f-41030fbc90e7",
   "metadata": {},
   "outputs": [],
   "source": [
    "class Coord:\n",
    "    \"\"\"Some Class\n",
    "    \"\"\"\n",
    "    def __init__ (self, x, y):\n",
    "        self.x = x\n",
    "        self.y = y\n",
    "        self.dist=((x**2)+(y**2))**0.5\n",
    "        \n",
    "    def __repr__(self):\n",
    "        return f\"{self.__class__.__name__}({self.x}, {self.y})\"\n",
    "    \n",
    "    def __add__(self,otherelf):\n",
    "        return (self.x + otherelf.x, self.y + otherelf.y)"
   ]
  },
  {
   "cell_type": "code",
   "execution_count": 90,
   "id": "db891b07-6bba-40fb-880c-f22273a1446a",
   "metadata": {},
   "outputs": [],
   "source": [
    "Coord1= Coord(2,3)"
   ]
  },
  {
   "cell_type": "code",
   "execution_count": 68,
   "id": "31502018-8e34-445f-a50b-d2506c848515",
   "metadata": {},
   "outputs": [
    {
     "data": {
      "text/plain": [
       "3.605551275463989"
      ]
     },
     "execution_count": 68,
     "metadata": {},
     "output_type": "execute_result"
    }
   ],
   "source": [
    "Coord1.dist"
   ]
  },
  {
   "cell_type": "code",
   "execution_count": 91,
   "id": "075bcbd5-e2cf-4d1f-a0af-23094dcdc14b",
   "metadata": {},
   "outputs": [
    {
     "data": {
      "text/plain": [
       "Coord(2, 3)"
      ]
     },
     "execution_count": 91,
     "metadata": {},
     "output_type": "execute_result"
    }
   ],
   "source": [
    "Coord1"
   ]
  },
  {
   "cell_type": "code",
   "execution_count": 100,
   "id": "3dbb6bf6-c753-4484-8b35-184b1b296842",
   "metadata": {},
   "outputs": [],
   "source": [
    "datei = open(\"coords.txt\")\n",
    "Lx=list()\n",
    "Ly=list()\n",
    "#i=0  \n",
    "for zeile in datei:\n",
    "    #print(zeile.find(\",\"))\n",
    "    if zeile ==\"X, Y\\n\":\n",
    "        continue\n",
    "    Lx.append(float(zeile.split(\",\")[0]))\n",
    "    Ly.append(float(zeile.split(\",\")[1].split(\"\\n\")[0]))\n",
    "    \n",
    "CoordList=[]\n",
    "for i in range(len(Lx)):\n",
    "    CoordList.append(Coord(Lx[i], Ly[i]))"
   ]
  },
  {
   "cell_type": "code",
   "execution_count": 93,
   "id": "06706160-fc81-4b0c-85fd-853655bba2a6",
   "metadata": {},
   "outputs": [
    {
     "data": {
      "text/plain": [
       "[Coord(0.07330604878866975, 0.8014226821067756),\n",
       " Coord(0.1661575819631842, 1.800580523229894),\n",
       " Coord(0.6995403090391857, 2.9428426511704133),\n",
       " Coord(3.739693717843958, 3.273789345607889),\n",
       " Coord(4.6548452940121825, 3.2432474181215083),\n",
       " Coord(5.800609928703754, 2.2899099772482145),\n",
       " Coord(2.8739261867333927, 6.851536185480562),\n",
       " Coord(7.213831740018356, 6.9884182899511025),\n",
       " Coord(5.326744862838446, 2.47894007512006),\n",
       " Coord(6.4738431697340655, 8.064819056138258),\n",
       " Coord(9.391058372638053, 4.65542320269743),\n",
       " Coord(1.6948694982714723, 3.5560225045761187),\n",
       " Coord(1.5140093076206513, 3.1884934811256436),\n",
       " Coord(4.430058552698293, 2.25747312715163),\n",
       " Coord(10.852231279914546, 3.781204549788254),\n",
       " Coord(0.8270875691175572, 2.845477430116926),\n",
       " Coord(2.751993939849164, 15.630578767457608),\n",
       " Coord(0.950355329431521, 15.883654177194524),\n",
       " Coord(3.2673577026468132, 17.848028970597163),\n",
       " Coord(15.357127440374532, 12.3861418864545)]"
      ]
     },
     "execution_count": 93,
     "metadata": {},
     "output_type": "execute_result"
    }
   ],
   "source": [
    "CoordList"
   ]
  },
  {
   "cell_type": "code",
   "execution_count": null,
   "id": "19e23dc6-25e0-46ba-83d1-1d22058a7aeb",
   "metadata": {},
   "outputs": [],
   "source": []
  },
  {
   "cell_type": "code",
   "execution_count": null,
   "id": "4d039519-56b3-4575-8fc3-97d865cade48",
   "metadata": {},
   "outputs": [],
   "source": []
  },
  {
   "cell_type": "code",
   "execution_count": 103,
   "id": "fb8bafca-fa00-4d27-acb0-e902806c315f",
   "metadata": {},
   "outputs": [
    {
     "data": {
      "text/plain": [
       "{0.8047683469074965,\n",
       " 1.808230782471831,\n",
       " 2.9632441094674626,\n",
       " 3.0248437172056257,\n",
       " 3.5296904769034194,\n",
       " 3.9392738758840826,\n",
       " 4.970211844851011,\n",
       " 4.972082430948531,\n",
       " 5.6732916835237015,\n",
       " 5.875317415239114,\n",
       " 6.236245925945952,\n",
       " 7.429872127280621,\n",
       " 10.04377212846943,\n",
       " 10.341757674329989,\n",
       " 10.481647893080023,\n",
       " 11.49210301033258,\n",
       " 15.870994400183724,\n",
       " 15.912059743254106,\n",
       " 18.1446345924166,\n",
       " 19.72961920695093}"
      ]
     },
     "execution_count": 103,
     "metadata": {},
     "output_type": "execute_result"
    }
   ],
   "source": [
    "{c.dist for c in CoordList}"
   ]
  },
  {
   "cell_type": "code",
   "execution_count": 94,
   "id": "723b2e2d-5b68-4edb-909c-0c413a359426",
   "metadata": {},
   "outputs": [],
   "source": [
    "Coord3= Coord(3,5)"
   ]
  },
  {
   "cell_type": "code",
   "execution_count": 95,
   "id": "7b05c90e-0403-4f18-bff9-8a02acbcc7c8",
   "metadata": {},
   "outputs": [
    {
     "data": {
      "text/plain": [
       "(5, 8)"
      ]
     },
     "execution_count": 95,
     "metadata": {},
     "output_type": "execute_result"
    }
   ],
   "source": [
    "Coord1 + Coord3"
   ]
  },
  {
   "cell_type": "code",
   "execution_count": null,
   "id": "742eb97e-9b5a-4112-ae0f-8035c59aa818",
   "metadata": {},
   "outputs": [],
   "source": []
  }
 ],
 "metadata": {
  "kernelspec": {
   "display_name": "Python 3.10",
   "language": "python",
   "name": "python310"
  },
  "language_info": {
   "codemirror_mode": {
    "name": "ipython",
    "version": 3
   },
   "file_extension": ".py",
   "mimetype": "text/x-python",
   "name": "python",
   "nbconvert_exporter": "python",
   "pygments_lexer": "ipython3",
   "version": "3.10.1"
  }
 },
 "nbformat": 4,
 "nbformat_minor": 5
}
