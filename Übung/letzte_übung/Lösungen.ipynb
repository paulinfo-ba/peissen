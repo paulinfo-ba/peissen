{
 "cells": [
  {
   "cell_type": "markdown",
   "id": "ea7894a7-60fd-440c-a053-e16db30f9be1",
   "metadata": {},
   "source": [
    "# Aufgabe 1 "
   ]
  },
  {
   "cell_type": "code",
   "execution_count": 1,
   "id": "205742dc-bc9e-4a98-b0f4-e587f9d7cd09",
   "metadata": {},
   "outputs": [],
   "source": [
    "def read_coords(file_name):\n",
    "    \"\"\"Read csv file with X and Y coordinates.\n",
    "    \n",
    "    Returns list of floats for X and Y.\"\"\"\n",
    "    xs = []\n",
    "    ys = []\n",
    "    with open(file_name) as fobj:\n",
    "        next(fobj)\n",
    "        for line in fobj:\n",
    "            x, y, *_ = line.split(',')\n",
    "            xs.append(float(x))\n",
    "            ys.append(float(y))\n",
    "    return xs, ys\n",
    "        \n",
    "xs, ys = read_coords('coords.txt')"
   ]
  },
  {
   "cell_type": "markdown",
   "id": "62d8dfb3-aa4f-4243-b3dd-cb4e2b614ab7",
   "metadata": {},
   "source": [
    "# Aufgabe 2"
   ]
  },
  {
   "cell_type": "code",
   "execution_count": null,
   "id": "6d0912fb-1c7c-4821-bfce-676562fdec6b",
   "metadata": {},
   "outputs": [],
   "source": [
    "def read_as_dict(file_name):\n",
    "    \"\"\"Read csv file with X and Y coordinates.\n",
    "    \n",
    "    Returns dict of lists with floats.\n",
    "    Keys are the names in first line.\n",
    "    \n",
    "    Example:\n",
    "    \n",
    "    file header: X, Y\n",
    "    result: {'X': [1.5, 2.5, 3.5], 'Y': [4.5, 5.5, 6.5]}    \n",
    "    \"\"\"\n",
    "    data = {}\n",
    "    with open(file_name) as fobj:\n",
    "        keys = [x.strip() for x in next(fobj).split(',')]\n",
    "        for key in keys:\n",
    "            data[key] = []\n",
    "        for line in fobj:\n",
    "            for key, value in zip(keys, line.split(',')):\n",
    "                data[key].append(float(value))\n",
    "    return data\n",
    "\n",
    "read_as_dict('coords.txt')"
   ]
  }
 ],
 "metadata": {
  "kernelspec": {
   "display_name": "Python 3.10",
   "language": "python",
   "name": "python310"
  },
  "language_info": {
   "codemirror_mode": {
    "name": "ipython",
    "version": 3
   },
   "file_extension": ".py",
   "mimetype": "text/x-python",
   "name": "python",
   "nbconvert_exporter": "python",
   "pygments_lexer": "ipython3",
   "version": "3.10.1"
  }
 },
 "nbformat": 4,
 "nbformat_minor": 5
}
