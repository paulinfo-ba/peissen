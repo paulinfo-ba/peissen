{
 "cells": [
  {
   "cell_type": "code",
   "execution_count": 1,
   "id": "1b54fcaf-9fde-4d7f-a26f-0178cf5125a3",
   "metadata": {},
   "outputs": [
    {
     "name": "stdout",
     "output_type": "stream",
     "text": [
      "88.05864783223778\n",
      "120.76800430133447\n"
     ]
    }
   ],
   "source": [
    "datei = open(\"coords.txt\")\n",
    "Lx=list()\n",
    "Ly=list()\n",
    "for zeile in datei:\n",
    "    if zeile ==\"X, Y\\n\":\n",
    "        continue\n",
    "    Lx.append(float(zeile.split(\",\")[0]))\n",
    "    Ly.append(float(zeile.split(\",\")[1].split(\"\\n\")[0]))\n",
    "    \n",
    "r=0.0\n",
    "print(sum(Lx))\n",
    "print(sum(Ly))"
   ]
  },
  {
   "cell_type": "code",
   "execution_count": 2,
   "id": "b4590307-6bab-411d-9c15-cebf297c0a49",
   "metadata": {},
   "outputs": [
    {
     "data": {
      "text/plain": [
       "208.82665213357225"
      ]
     },
     "execution_count": 2,
     "metadata": {},
     "output_type": "execute_result"
    }
   ],
   "source": [
    "datei = open(\"coords.txt\")\n",
    "Lx=list()\n",
    "Ly=list()\n",
    "Dic={}\n",
    "for zeile in datei:\n",
    "    if zeile ==\"X, Y\\n\":\n",
    "        x, y= zeile.split(\",\")\n",
    "        continue\n",
    "    Lx.append(float(zeile.split(\",\")[0]))\n",
    "    Ly.append(float(zeile.split(\",\")[1].split(\"\\n\")[0]))\n",
    "Dic[x]=Lx\n",
    "Dic[y]=Ly\n",
    "result=0.0\n",
    "    \n",
    "for key in Dic:\n",
    "    result=sum(Dic[key])+result\n",
    "    \n",
    "result"
   ]
  },
  {
   "cell_type": "code",
   "execution_count": null,
   "id": "57bc4ff6-d870-4e28-a8f0-4b5215c32950",
   "metadata": {},
   "outputs": [],
   "source": []
  }
 ],
 "metadata": {
  "kernelspec": {
   "display_name": "Python 3.10",
   "language": "python",
   "name": "python310"
  },
  "language_info": {
   "codemirror_mode": {
    "name": "ipython",
    "version": 3
   },
   "file_extension": ".py",
   "mimetype": "text/x-python",
   "name": "python",
   "nbconvert_exporter": "python",
   "pygments_lexer": "ipython3",
   "version": "3.10.1"
  }
 },
 "nbformat": 4,
 "nbformat_minor": 5
}
