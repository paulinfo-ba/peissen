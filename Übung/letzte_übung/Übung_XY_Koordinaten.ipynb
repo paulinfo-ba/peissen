{
 "cells": [
  {
   "cell_type": "markdown",
   "id": "f62df25f-8ef7-439c-80ed-89afa389d1e8",
   "metadata": {},
   "source": [
    "# Übung - Einlesen und Arbeit mit X-Y- Koordinaten"
   ]
  },
  {
   "cell_type": "markdown",
   "id": "d76673be-c4fb-493e-a318-3071593f25fa",
   "metadata": {},
   "source": [
    "1. Schreiben Sie eine Funktion, die die Werte aus der Datei `coords.txt` in zwei\n",
    "   Listen mit Zahlen einliest. \n",
    "   Das ist der Inhalt von `coords.txt`:"
   ]
  },
  {
   "cell_type": "code",
   "execution_count": 1,
   "id": "4fb928d1-990c-4cf7-9ac7-5a5dad3ccb51",
   "metadata": {},
   "outputs": [
    {
     "data": {
      "text/plain": [
       "X, Y\n",
       "0.07330604878866975, 0.8014226821067756\n",
       "0.1661575819631842, 1.800580523229894\n",
       "0.6995403090391857, 2.9428426511704133\n",
       "3.739693717843958, 3.273789345607889\n",
       "4.6548452940121825, 3.2432474181215083\n",
       "5.800609928703754, 2.2899099772482145\n",
       "2.8739261867333927, 6.851536185480562\n",
       "7.213831740018356, 6.9884182899511025\n",
       "5.326744862838446, 2.47894007512006\n",
       "6.4738431697340655, 8.064819056138258\n",
       "9.391058372638053, 4.65542320269743\n",
       "1.6948694982714723, 3.5560225045761187\n",
       "1.5140093076206513, 3.1884934811256436\n",
       "4.430058552698293, 2.25747312715163\n",
       "10.852231279914546, 3.781204549788254\n",
       "0.8270875691175572, 2.845477430116926\n",
       "2.751993939849164, 15.630578767457608\n",
       "0.950355329431521, 15.883654177194524\n",
       "3.2673577026468132, 17.848028970597163\n",
       "15.357127440374532, 12.3861418864545\n"
      ]
     },
     "metadata": {},
     "output_type": "display_data"
    }
   ],
   "source": [
    "%less coords.txt"
   ]
  },
  {
   "cell_type": "markdown",
   "id": "1d47c206-8003-480c-b673-e501eea2bcda",
   "metadata": {},
   "source": [
    "Der Beginn der Liste mit den X-Werten soll so aussehen:"
   ]
  },
  {
   "cell_type": "code",
   "execution_count": 7,
   "id": "7e1c473b-2ba7-4a62-b196-4d61f224425f",
   "metadata": {},
   "outputs": [
    {
     "data": {
      "text/plain": [
       "[0.07330604878866975,\n",
       " 0.1661575819631842,\n",
       " 0.6995403090391857,\n",
       " 3.739693717843958,\n",
       " 4.6548452940121825]"
      ]
     },
     "execution_count": 7,
     "metadata": {},
     "output_type": "execute_result"
    }
   ],
   "source": [
    "xs[:5]"
   ]
  },
  {
   "cell_type": "markdown",
   "id": "6aae87e2-cf9a-44c3-96d1-4464199b1ba8",
   "metadata": {},
   "source": [
    "Der Beginn der Liste mit den y-Werten soll so aussehen:"
   ]
  },
  {
   "cell_type": "code",
   "execution_count": 8,
   "id": "4e78da06",
   "metadata": {},
   "outputs": [
    {
     "data": {
      "text/plain": [
       "[0.8014226821067756,\n",
       " 1.800580523229894,\n",
       " 2.9428426511704133,\n",
       " 3.273789345607889,\n",
       " 3.2432474181215083]"
      ]
     },
     "execution_count": 8,
     "metadata": {},
     "output_type": "execute_result"
    }
   ],
   "source": [
    "ys[:5]"
   ]
  },
  {
   "cell_type": "markdown",
   "id": "9458b08a-7746-4d4d-bc41-b8af1126fbfc",
   "metadata": {},
   "source": [
    "2. Schreiben Sie eine Funktion, die die Werte aus der Datei übung.txt in ein\n",
    "   Dictionary mit den Buchstaben in der ersten Zeile als Schlüssel und allen\n",
    "   Zahlen in je eine List als Werte einliest.\n",
    "   "
   ]
  },
  {
   "cell_type": "markdown",
   "id": "a02ecd65-0e4f-4553-80be-64bd1611a000",
   "metadata": {},
   "source": [
    "Das Ergebnis soll so aussehen:"
   ]
  },
  {
   "cell_type": "code",
   "execution_count": 12,
   "id": "c7cc6190-d67f-4cea-9ad4-1429f940075f",
   "metadata": {},
   "outputs": [
    {
     "data": {
      "text/plain": [
       "{'X': [0.07330604878866975,\n",
       "  0.1661575819631842,\n",
       "  0.6995403090391857,\n",
       "  3.739693717843958,\n",
       "  4.6548452940121825,\n",
       "  5.800609928703754,\n",
       "  2.8739261867333927,\n",
       "  7.213831740018356,\n",
       "  5.326744862838446,\n",
       "  6.4738431697340655,\n",
       "  9.391058372638053,\n",
       "  1.6948694982714723,\n",
       "  1.5140093076206513,\n",
       "  4.430058552698293,\n",
       "  10.852231279914546,\n",
       "  0.8270875691175572,\n",
       "  2.751993939849164,\n",
       "  0.950355329431521,\n",
       "  3.2673577026468132,\n",
       "  15.357127440374532],\n",
       " 'Y': [0.8014226821067756,\n",
       "  1.800580523229894,\n",
       "  2.9428426511704133,\n",
       "  3.273789345607889,\n",
       "  3.2432474181215083,\n",
       "  2.2899099772482145,\n",
       "  6.851536185480562,\n",
       "  6.9884182899511025,\n",
       "  2.47894007512006,\n",
       "  8.064819056138258,\n",
       "  4.65542320269743,\n",
       "  3.5560225045761187,\n",
       "  3.1884934811256436,\n",
       "  2.25747312715163,\n",
       "  3.781204549788254,\n",
       "  2.845477430116926,\n",
       "  15.630578767457608,\n",
       "  15.883654177194524,\n",
       "  17.848028970597163,\n",
       "  12.3861418864545]}"
      ]
     },
     "execution_count": 12,
     "metadata": {},
     "output_type": "execute_result"
    }
   ],
   "source": [
    "data"
   ]
  },
  {
   "cell_type": "markdown",
   "id": "04318bcb-f121-4d2f-960d-6bf72800b990",
   "metadata": {},
   "source": [
    "3. Schreiben Sie eine Funktion, die die beiden Summen der Werte der Spalten\n",
    "   X und Y ermittelt:\n",
    "   \n",
    "   \n",
    "(a) für die Daten in den beiden Listen aus Aufgabe 1 (sum_lists)\n"
   ]
  },
  {
   "cell_type": "markdown",
   "id": "49087d46-a895-4e2f-85f4-e1c03f2cabce",
   "metadata": {},
   "source": [
    "(b) für die Daten im Dictionary aus Aufgabe 2 (sum_dict)  "
   ]
  },
  {
   "cell_type": "markdown",
   "id": "998c14ec-1f57-47d5-852e-48384b37c6dc",
   "metadata": {},
   "source": [
    " Dieser Ausdruck soll wahr sein:   "
   ]
  },
  {
   "cell_type": "code",
   "execution_count": 19,
   "id": "1d9c8fbf",
   "metadata": {},
   "outputs": [
    {
     "data": {
      "text/plain": [
       "True"
      ]
     },
     "execution_count": 19,
     "metadata": {},
     "output_type": "execute_result"
    }
   ],
   "source": [
    "sum_lists(xs, ys) == sum_dict(data) == (88.05864783223778, 120.76800430133447)"
   ]
  },
  {
   "cell_type": "markdown",
   "id": "e628f54d",
   "metadata": {},
   "source": [
    "4. Speichern Sie alle Funktionen in einem Modul und importieren Sie einzelne\n",
    "   Funktionen in ein Notebook und rufen Sie diese auf.\n",
    "   \n",
    "   \n",
    "Alle Funktionen sollen \"schöne\" und \"vollständige\" Funktionen sein."
   ]
  },
  {
   "cell_type": "markdown",
   "id": "c2ec39f6-e80a-4f6a-af1d-a8e3a953a3fd",
   "metadata": {},
   "source": [
    "5. Schreiben Sie eine Klasse `Coord`, die Werte für `x` und `y` zum \n",
    "   Initialisierungszeitpunkt übernimmt und als Instanzattribute setzt.\n",
    "   Berechnen Sie den Abstand zum Nullpunkt (Quadratwurzel aus den Quadraten der beiden         \n",
    "   Koordinatenwerte) und setzen Sie diesn berechnet Wert als Attriobut `dist`.\n",
    "   Erstellen Sie eine Instanz dieser Klasse mit den Werten `2` und `3` für `x`und `y`.\n",
    "   Der Wert für `dist` sollte ca. `3.6` betragen"
   ]
  },
  {
   "cell_type": "markdown",
   "id": "2f7c4c29-54a1-424c-bbab-67e6704ea7ac",
   "metadata": {},
   "source": [
    "6. Fügen Sie Ihrer Klasse eine Funktion `__repr__` hinzu, die die\n",
    "   Repräsentation einer Instanz mit den Werten `x=2`, und `y=3` \n",
    "   so aussehen lassen: `Coord(2, 3)`"
   ]
  },
  {
   "cell_type": "markdown",
   "id": "21ba09bb-1a0d-4527-8aab-409a391cedda",
   "metadata": {},
   "source": [
    "7. Erzeugen Sie ein Liste von Instanzen von `Coord`.\n",
    "   Nutzen Sie dazu die aus der Datei eingelesenen Werte Koordinaten. "
   ]
  },
  {
   "cell_type": "markdown",
   "id": "e319421d-ecfe-45a8-b913-3d0b67027142",
   "metadata": {},
   "source": [
    "8. Fügen Sie Ihrer Klasse ein Methode `__add__` hinzu, \n",
    "   so dass dieses Ergebnis entsteht:"
   ]
  },
  {
   "cell_type": "code",
   "execution_count": 35,
   "id": "44fb6305-4fbf-45f2-9e18-1a48a3e989eb",
   "metadata": {},
   "outputs": [
    {
     "data": {
      "text/plain": [
       "Coord(9, 5)"
      ]
     },
     "execution_count": 35,
     "metadata": {},
     "output_type": "execute_result"
    }
   ],
   "source": [
    "coord1 = Coord(2, 3)\n",
    "coord2 = Coord(7, 2)\n",
    "coord1 + coord2"
   ]
  }
 ],
 "metadata": {
  "kernelspec": {
   "display_name": "Python 3 (ipykernel)",
   "language": "python",
   "name": "python3"
  },
  "language_info": {
   "codemirror_mode": {
    "name": "ipython",
    "version": 3
   },
   "file_extension": ".py",
   "mimetype": "text/x-python",
   "name": "python",
   "nbconvert_exporter": "python",
   "pygments_lexer": "ipython3",
   "version": "3.9.9"
  }
 },
 "nbformat": 4,
 "nbformat_minor": 5
}
